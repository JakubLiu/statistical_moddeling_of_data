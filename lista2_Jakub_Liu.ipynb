{
 "cells": [
  {
   "cell_type": "markdown",
   "id": "b61968e0",
   "metadata": {},
   "source": [
    "# zadanie 3"
   ]
  },
  {
   "cell_type": "markdown",
   "id": "b5e729d0",
   "metadata": {},
   "source": [
    "Wczytywanie danych"
   ]
  },
  {
   "cell_type": "code",
   "execution_count": 2,
   "id": "4e55fa50",
   "metadata": {},
   "outputs": [
    {
     "data": {
      "text/html": [
       "<table>\n",
       "<thead><tr><th scope=col>Air.Flow</th><th scope=col>Water.Temp</th><th scope=col>Acid.Conc.</th><th scope=col>stack.loss</th></tr></thead>\n",
       "<tbody>\n",
       "\t<tr><td>80</td><td>27</td><td>89</td><td>42</td></tr>\n",
       "\t<tr><td>80</td><td>27</td><td>88</td><td>37</td></tr>\n",
       "\t<tr><td>75</td><td>25</td><td>90</td><td>37</td></tr>\n",
       "\t<tr><td>62</td><td>24</td><td>87</td><td>28</td></tr>\n",
       "\t<tr><td>62</td><td>22</td><td>87</td><td>18</td></tr>\n",
       "\t<tr><td>62</td><td>23</td><td>87</td><td>18</td></tr>\n",
       "</tbody>\n",
       "</table>\n"
      ],
      "text/latex": [
       "\\begin{tabular}{r|llll}\n",
       " Air.Flow & Water.Temp & Acid.Conc. & stack.loss\\\\\n",
       "\\hline\n",
       "\t 80 & 27 & 89 & 42\\\\\n",
       "\t 80 & 27 & 88 & 37\\\\\n",
       "\t 75 & 25 & 90 & 37\\\\\n",
       "\t 62 & 24 & 87 & 28\\\\\n",
       "\t 62 & 22 & 87 & 18\\\\\n",
       "\t 62 & 23 & 87 & 18\\\\\n",
       "\\end{tabular}\n"
      ],
      "text/markdown": [
       "\n",
       "| Air.Flow | Water.Temp | Acid.Conc. | stack.loss |\n",
       "|---|---|---|---|\n",
       "| 80 | 27 | 89 | 42 |\n",
       "| 80 | 27 | 88 | 37 |\n",
       "| 75 | 25 | 90 | 37 |\n",
       "| 62 | 24 | 87 | 28 |\n",
       "| 62 | 22 | 87 | 18 |\n",
       "| 62 | 23 | 87 | 18 |\n",
       "\n"
      ],
      "text/plain": [
       "  Air.Flow Water.Temp Acid.Conc. stack.loss\n",
       "1 80       27         89         42        \n",
       "2 80       27         88         37        \n",
       "3 75       25         90         37        \n",
       "4 62       24         87         28        \n",
       "5 62       22         87         18        \n",
       "6 62       23         87         18        "
      ]
     },
     "metadata": {},
     "output_type": "display_data"
    }
   ],
   "source": [
    "data(stackloss)\n",
    "head(stackloss)"
   ]
  },
  {
   "cell_type": "markdown",
   "id": "ccfee588",
   "metadata": {},
   "source": [
    "Wybór odpowiedniego modelu"
   ]
  },
  {
   "cell_type": "code",
   "execution_count": 6,
   "id": "ac4b1376",
   "metadata": {},
   "outputs": [
    {
     "data": {
      "text/plain": [
       "\n",
       "Call:\n",
       "lm(formula = stack.loss ~ Water.Temp + Acid.Conc., data = stackloss)\n",
       "\n",
       "Residuals:\n",
       "    Min      1Q  Median      3Q     Max \n",
       "-7.8197 -2.8600 -0.6656  3.1235  8.3295 \n",
       "\n",
       "Coefficients:\n",
       "            Estimate Std. Error t value Pr(>|t|)    \n",
       "(Intercept) -51.2361    18.5374  -2.764   0.0128 *  \n",
       "Water.Temp    2.7320     0.3949   6.919 1.82e-06 ***\n",
       "Acid.Conc.    0.1290     0.2329   0.554   0.5866    \n",
       "---\n",
       "Signif. codes:  0 '***' 0.001 '**' 0.01 '*' 0.05 '.' 0.1 ' ' 1\n",
       "\n",
       "Residual standard error: 5.137 on 18 degrees of freedom\n",
       "Multiple R-squared:  0.7704,\tAdjusted R-squared:  0.7449 \n",
       "F-statistic:  30.2 on 2 and 18 DF,  p-value: 1.772e-06\n"
      ]
     },
     "metadata": {},
     "output_type": "display_data"
    }
   ],
   "source": [
    "model_entry <- lm(stack.loss ~ Water.Temp + Acid.Conc., data = stackloss)\n",
    "summary(model_entry)\n",
    "\n",
    "# zmienna Acid.Conc. ma p-value > 0.05, więc usuwamy ją z modelu"
   ]
  },
  {
   "cell_type": "code",
   "execution_count": 7,
   "id": "68723fda",
   "metadata": {},
   "outputs": [
    {
     "data": {
      "text/plain": [
       "\n",
       "Call:\n",
       "lm(formula = stack.loss ~ Water.Temp, data = stackloss)\n",
       "\n",
       "Residuals:\n",
       "    Min      1Q  Median      3Q     Max \n",
       "-7.8904 -3.6206  0.3794  2.8398  8.4747 \n",
       "\n",
       "Coefficients:\n",
       "            Estimate Std. Error t value Pr(>|t|)    \n",
       "(Intercept) -41.9109     7.6056  -5.511 2.58e-05 ***\n",
       "Water.Temp    2.8174     0.3567   7.898 2.03e-07 ***\n",
       "---\n",
       "Signif. codes:  0 '***' 0.001 '**' 0.01 '*' 0.05 '.' 0.1 ' ' 1\n",
       "\n",
       "Residual standard error: 5.043 on 19 degrees of freedom\n",
       "Multiple R-squared:  0.7665,\tAdjusted R-squared:  0.7542 \n",
       "F-statistic: 62.37 on 1 and 19 DF,  p-value: 2.028e-07\n"
      ]
     },
     "metadata": {},
     "output_type": "display_data"
    }
   ],
   "source": [
    "model_final <- lm(stack.loss ~ Water.Temp, data = stackloss)\n",
    "summary(model_final)"
   ]
  },
  {
   "cell_type": "markdown",
   "id": "080b7fe7",
   "metadata": {},
   "source": [
    "ii) Czy któraś z obserwacji może być uznana za obserwację o dużej dźwigni?"
   ]
  },
  {
   "cell_type": "code",
   "execution_count": 11,
   "id": "150f4434",
   "metadata": {},
   "outputs": [
    {
     "data": {
      "text/html": [],
      "text/latex": [],
      "text/markdown": [],
      "text/plain": [
       "integer(0)"
      ]
     },
     "metadata": {},
     "output_type": "display_data"
    },
    {
     "ename": "ERROR",
     "evalue": "Error in lm.fit(x, y, offset = offset, singular.ok = singular.ok, ...): 0 (non-NA) cases\n",
     "output_type": "error",
     "traceback": [
      "Error in lm.fit(x, y, offset = offset, singular.ok = singular.ok, ...): 0 (non-NA) cases\nTraceback:\n",
      "1. lm(stack.loss[-punkt_o_duzej_dzwigni] ~ Water.Temp[-punkt_o_duzej_dzwigni], \n .     data = stackloss)",
      "2. lm.fit(x, y, offset = offset, singular.ok = singular.ok, ...)",
      "3. stop(\"0 (non-NA) cases\")"
     ]
    },
    {
     "data": {
      "image/png": "[encoded data removed]",
      "text/plain": [
       "plot without title"
      ]
     },
     "metadata": {},
     "output_type": "display_data"
    }
   ],
   "source": [
    "# obserwacja o dużej dźwigni to taka obserwacja, która ma typową wartość X ale nietypową wartość Y\n",
    "\n",
    "\n",
    "# graficzne szukanie obserwacji o duże dźwigni\n",
    "plot(stackloss$Water.Temp, stackloss$stack.loss, ylab = \"stack loss\", xlab = \"water temperature\", pch = 19)\n",
    "\n",
    "# z patrzenia na wykres nie widać obserwacji o dużej dźwigni"
   ]
  },
  {
   "cell_type": "code",
   "execution_count": 14,
   "id": "ff8b672a",
   "metadata": {},
   "outputs": [
    {
     "data": {
      "text/plain": [
       "    Min.  1st Qu.   Median     Mean  3rd Qu.     Max. \n",
       "-1.69706 -0.73530  0.07593  0.02370  0.62827  1.91791 "
      ]
     },
     "metadata": {},
     "output_type": "display_data"
    },
    {
     "name": "stdout",
     "output_type": "stream",
     "text": [
      "[1] \"__________________________________________________________________________________________________\"\n"
     ]
    },
    {
     "data": {
      "text/html": [],
      "text/latex": [],
      "text/markdown": [],
      "text/plain": [
       "named integer(0)"
      ]
     },
     "metadata": {},
     "output_type": "display_data"
    }
   ],
   "source": [
    "# liczbowe szukanie obserwacji o dużej dźwignii (analiza reszt studentyzowanych)\n",
    "\n",
    "reszty_stud = rstudent(model_final)\n",
    "summary(reszty_stud)\n",
    "print('__________________________________________________________________________________________________')\n",
    "k = which(abs(reszty_stud) > 2)\n",
    "k\n",
    "\n",
    "# z analizy reszt studentyzowanych wynika, że nie ma obserwacji o dużej dźwignii"
   ]
  },
  {
   "cell_type": "code",
   "execution_count": 15,
   "id": "519ba626",
   "metadata": {},
   "outputs": [
    {
     "name": "stderr",
     "output_type": "stream",
     "text": [
      "Installing package into 'C:/Users/Lenovo/Documents/R/win-library/3.6'\n",
      "(as 'lib' is unspecified)\n",
      "also installing the dependency 'lme4'\n",
      "\n"
     ]
    },
    {
     "name": "stdout",
     "output_type": "stream",
     "text": [
      "\n",
      "  There are binary versions available but the source versions are later:\n",
      "     binary source needs_compilation\n",
      "lme4 1.1-26 1.1-32              TRUE\n",
      "car  3.0-10  3.1-1             FALSE\n",
      "\n"
     ]
    },
    {
     "name": "stderr",
     "output_type": "stream",
     "text": [
      "installing the source packages 'lme4', 'car'\n",
      "\n",
      "Warning message in install.packages(\"car\"):\n",
      "\"installation of package 'lme4' had non-zero exit status\"Loading required package: carData\n",
      "Warning message:\n",
      "\"package 'carData' was built under R version 3.6.3\""
     ]
    },
    {
     "data": {
      "text/plain": [
       "No Studentized residuals with Bonferroni p < 0.05\n",
       "Largest |rstudent|:\n",
       "  rstudent unadjusted p-value Bonferroni p\n",
       "3 1.917911           0.071129           NA"
      ]
     },
     "metadata": {},
     "output_type": "display_data"
    }
   ],
   "source": [
    "# liczbowe szukanie obserwacji o dużej dźwignii (outlier test)\n",
    "\n",
    "install.packages(\"car\")\n",
    "library(car)\n",
    "outlierTest(model_final)\n",
    "\n",
    "# outlierTest() zwraca nam obserwacje 3, jednak z p-value > 0.05, więc nie bieżemy tej obserwacji pod uwagę\n",
    "# czyli ten test mówi, że nie ma obserwacji o dużej dźwignii"
   ]
  },
  {
   "cell_type": "code",
   "execution_count": 18,
   "id": "f2e2eeb6",
   "metadata": {},
   "outputs": [
    {
     "data": {
      "text/plain": [
       "Influence measures of\n",
       "\t lm(formula = stack.loss ~ Water.Temp, data = stackloss) :\n",
       "\n",
       "    dfb.1_ dfb.Wt.T   dffit cov.r   cook.d    hat inf\n",
       "1  -0.8120  0.88850  1.0024 1.002 0.443616 0.2221   *\n",
       "2  -0.2719  0.29756  0.3357 1.372 0.058208 0.2221   *\n",
       "3  -0.4954  0.56604  0.7213 0.877 0.228024 0.1239    \n",
       "4  -0.0840  0.10049  0.1466 1.195 0.011205 0.0898    \n",
       "5   0.0135 -0.02713 -0.0964 1.153 0.004859 0.0517    \n",
       "6   0.1057 -0.13991 -0.2663 1.070 0.035440 0.0658    \n",
       "7   0.2579 -0.30853 -0.4500 0.986 0.095958 0.0898    \n",
       "8   0.2161 -0.25850 -0.3771 1.050 0.069480 0.0898    \n",
       "9   0.1787 -0.23659 -0.4503 0.886 0.092259 0.0658    \n",
       "10  0.2842 -0.25073  0.3540 1.084 0.062041 0.0956    \n",
       "11  0.2842 -0.25073  0.3540 1.084 0.062041 0.0956    \n",
       "12  0.5280 -0.48072  0.6018 1.000 0.168744 0.1316    \n",
       "13  0.1170 -0.10323  0.1457 1.205 0.011087 0.0956    \n",
       "14  0.0140 -0.01167  0.0208 1.197 0.000228 0.0696    \n",
       "15 -0.0426  0.03756 -0.0530 1.228 0.001482 0.0956    \n",
       "16 -0.0959  0.08458 -0.1194 1.214 0.007469 0.0956    \n",
       "17 -0.1359  0.11299 -0.2011 1.129 0.020720 0.0696    \n",
       "18 -0.1359  0.11299 -0.2011 1.129 0.020720 0.0696    \n",
       "19 -0.1241  0.08886 -0.2656 1.030 0.034813 0.0536    \n",
       "20  0.0124 -0.00888  0.0265 1.176 0.000372 0.0536    \n",
       "21  0.0124 -0.00888  0.0265 1.176 0.000372 0.0536    "
      ]
     },
     "metadata": {},
     "output_type": "display_data"
    }
   ],
   "source": [
    "# liczbowe szukanie obserwacji o dużej dźwignii (influence.measures())\n",
    "\n",
    "influence.measures(model_final)\n",
    "\n",
    "# według tej funkcji obserwacje 1 i 2 są wpływowe"
   ]
  },
  {
   "cell_type": "code",
   "execution_count": 17,
   "id": "b09c83ba",
   "metadata": {},
   "outputs": [
    {
     "name": "stderr",
     "output_type": "stream",
     "text": [
      "Warning message in plot.window(...):\n",
      "\"'id.method' nie jest parametrem graficznym\"Warning message in plot.window(...):\n",
      "\"'id.n' nie jest parametrem graficznym\"Warning message in plot.window(...):\n",
      "\"'id.cex' nie jest parametrem graficznym\"Warning message in plot.xy(xy, type, ...):\n",
      "\"'id.method' nie jest parametrem graficznym\"Warning message in plot.xy(xy, type, ...):\n",
      "\"'id.n' nie jest parametrem graficznym\"Warning message in plot.xy(xy, type, ...):\n",
      "\"'id.cex' nie jest parametrem graficznym\"Warning message in axis(side = side, at = at, labels = labels, ...):\n",
      "\"'id.method' nie jest parametrem graficznym\"Warning message in axis(side = side, at = at, labels = labels, ...):\n",
      "\"'id.n' nie jest parametrem graficznym\"Warning message in axis(side = side, at = at, labels = labels, ...):\n",
      "\"'id.cex' nie jest parametrem graficznym\"Warning message in axis(side = side, at = at, labels = labels, ...):\n",
      "\"'id.method' nie jest parametrem graficznym\"Warning message in axis(side = side, at = at, labels = labels, ...):\n",
      "\"'id.n' nie jest parametrem graficznym\"Warning message in axis(side = side, at = at, labels = labels, ...):\n",
      "\"'id.cex' nie jest parametrem graficznym\"Warning message in box(...):\n",
      "\"'id.method' nie jest parametrem graficznym\"Warning message in box(...):\n",
      "\"'id.n' nie jest parametrem graficznym\"Warning message in box(...):\n",
      "\"'id.cex' nie jest parametrem graficznym\"Warning message in title(...):\n",
      "\"'id.method' nie jest parametrem graficznym\"Warning message in title(...):\n",
      "\"'id.n' nie jest parametrem graficznym\"Warning message in title(...):\n",
      "\"'id.cex' nie jest parametrem graficznym\"Warning message in plot.xy(xy.coords(x, y), type = type, ...):\n",
      "\"'id.method' nie jest parametrem graficznym\"Warning message in plot.xy(xy.coords(x, y), type = type, ...):\n",
      "\"'id.n' nie jest parametrem graficznym\"Warning message in plot.xy(xy.coords(x, y), type = type, ...):\n",
      "\"'id.cex' nie jest parametrem graficznym\""
     ]
    },
    {
     "data": {
      "text/html": [
       "<table>\n",
       "<thead><tr><th scope=col>StudRes</th><th scope=col>Hat</th><th scope=col>CookD</th></tr></thead>\n",
       "<tbody>\n",
       "\t<tr><td>1.8759536 </td><td>0.2221163 </td><td>0.44361619</td></tr>\n",
       "\t<tr><td>0.6282651 </td><td>0.2221163 </td><td>0.05820793</td></tr>\n",
       "\t<tr><td>1.9179109 </td><td>0.1239276 </td><td>0.22802446</td></tr>\n",
       "</tbody>\n",
       "</table>\n"
      ],
      "text/latex": [
       "\\begin{tabular}{r|lll}\n",
       " StudRes & Hat & CookD\\\\\n",
       "\\hline\n",
       "\t 1.8759536  & 0.2221163  & 0.44361619\\\\\n",
       "\t 0.6282651  & 0.2221163  & 0.05820793\\\\\n",
       "\t 1.9179109  & 0.1239276  & 0.22802446\\\\\n",
       "\\end{tabular}\n"
      ],
      "text/markdown": [
       "\n",
       "| StudRes | Hat | CookD |\n",
       "|---|---|---|\n",
       "| 1.8759536  | 0.2221163  | 0.44361619 |\n",
       "| 0.6282651  | 0.2221163  | 0.05820793 |\n",
       "| 1.9179109  | 0.1239276  | 0.22802446 |\n",
       "\n"
      ],
      "text/plain": [
       "  StudRes   Hat       CookD     \n",
       "1 1.8759536 0.2221163 0.44361619\n",
       "2 0.6282651 0.2221163 0.05820793\n",
       "3 1.9179109 0.1239276 0.22802446"
      ]
     },
     "metadata": {},
     "output_type": "display_data"
    },
    {
     "data": {
      "image/png": "[encoded data removed]",
      "text/plain": [
       "Plot with title \"Wykres wpływów\""
      ]
     },
     "metadata": {},
     "output_type": "display_data"
    }
   ],
   "source": [
    "# liczbowe szukanie obserwacji o dużej dźwignii (influencePlot())\n",
    "\n",
    "influencePlot (model_final, id.method = \"identify\", id.n = 1, id.cex = 1 , main = \"Wykres wpływów\",\n",
    "               sub = \"Rozmiar okręgów jest proporcjonalny do odległości Cooka\")\n",
    "\n",
    "# według tej metody, obserwacje 1 i 3 są wpływowe\n",
    "# mają duże odległości Cook'a\n",
    "# ich moduły reszt studentyzowanych są bliskie 2"
   ]
  },
  {
   "cell_type": "markdown",
   "id": "54169706",
   "metadata": {},
   "source": [
    "iii) Jeśli tak, przedstaw na wykresie prostą regresji dopasowaną do wszystkich obserwacji oraz prostą dopasowaną po usunięciu tego punktu.\n"
   ]
  },
  {
   "cell_type": "code",
   "execution_count": 25,
   "id": "f7d385c8",
   "metadata": {},
   "outputs": [
    {
     "data": {
      "image/png": "[encoded data removed]",
      "text/plain": [
       "plot without title"
      ]
     },
     "metadata": {},
     "output_type": "display_data"
    }
   ],
   "source": [
    "model_no_outliers <- lm(stack.loss[-c(1,2,3)] ~ Water.Temp[-c(1,2,3)], data = stackloss)\n",
    "\n",
    "plot(stackloss$Water.Temp, stackloss$stack.loss, ylab = \"stack loss\", xlab = \"water temperature\", pch = 19)\n",
    "abline(model_final, col = \"red\", lwd = 2)\n",
    "abline(model_no_outliers, col = \"blue\", lwd = 2)\n",
    "legend('topleft', c('model ze wszystkimi obserwacjami', 'model bez obserwacji o dużej dźwignii'), col = c('red', 'blue'), lty = c(1, 1, 1, NA), pch = c(NA, NA, NA, 19), lwd = c(2, 2, 2, NA))"
   ]
  },
  {
   "cell_type": "markdown",
   "id": "4cc882a1",
   "metadata": {},
   "source": [
    "iv) Przedstaw podsumowania obu modeli. Czy usunięcie punktu o dużej\n",
    "dźwigni spowodowało zmianę w dopasowaniu modelu? Podaj dokładność\n",
    "dopasowania dla obu modeli."
   ]
  },
  {
   "cell_type": "code",
   "execution_count": 27,
   "id": "d3ffa45b",
   "metadata": {},
   "outputs": [
    {
     "name": "stdout",
     "output_type": "stream",
     "text": [
      "[1] \"model ze wszystkimi zmiennymi\"\n"
     ]
    },
    {
     "data": {
      "text/plain": [
       "\n",
       "Call:\n",
       "lm(formula = stack.loss ~ Water.Temp, data = stackloss)\n",
       "\n",
       "Residuals:\n",
       "    Min      1Q  Median      3Q     Max \n",
       "-7.8904 -3.6206  0.3794  2.8398  8.4747 \n",
       "\n",
       "Coefficients:\n",
       "            Estimate Std. Error t value Pr(>|t|)    \n",
       "(Intercept) -41.9109     7.6056  -5.511 2.58e-05 ***\n",
       "Water.Temp    2.8174     0.3567   7.898 2.03e-07 ***\n",
       "---\n",
       "Signif. codes:  0 '***' 0.001 '**' 0.01 '*' 0.05 '.' 0.1 ' ' 1\n",
       "\n",
       "Residual standard error: 5.043 on 19 degrees of freedom\n",
       "Multiple R-squared:  0.7665,\tAdjusted R-squared:  0.7542 \n",
       "F-statistic: 62.37 on 1 and 19 DF,  p-value: 2.028e-07\n"
      ]
     },
     "metadata": {},
     "output_type": "display_data"
    },
    {
     "name": "stdout",
     "output_type": "stream",
     "text": [
      "[1] \"_________________________________________________________________________________________________________\"\n",
      "[1] \"model bez zmiennych o dużej dźwignii\"\n"
     ]
    },
    {
     "data": {
      "text/plain": [
       "\n",
       "Call:\n",
       "lm(formula = stack.loss[-c(1, 2, 3)] ~ Water.Temp[-c(1, 2, 3)], \n",
       "    data = stackloss)\n",
       "\n",
       "Residuals:\n",
       "    Min      1Q  Median      3Q     Max \n",
       "-4.6220 -2.9698 -0.1736  1.3780  7.5736 \n",
       "\n",
       "Coefficients:\n",
       "                        Estimate Std. Error t value Pr(>|t|)    \n",
       "(Intercept)             -20.4000     7.0763  -2.883 0.010819 *  \n",
       "Water.Temp[-c(1, 2, 3)]   1.7011     0.3475   4.895 0.000162 ***\n",
       "---\n",
       "Signif. codes:  0 '***' 0.001 '**' 0.01 '*' 0.05 '.' 0.1 ' ' 1\n",
       "\n",
       "Residual standard error: 3.495 on 16 degrees of freedom\n",
       "Multiple R-squared:  0.5996,\tAdjusted R-squared:  0.5745 \n",
       "F-statistic: 23.96 on 1 and 16 DF,  p-value: 0.000162\n"
      ]
     },
     "metadata": {},
     "output_type": "display_data"
    }
   ],
   "source": [
    "print('model ze wszystkimi zmiennymi')\n",
    "summary(model_final)\n",
    "print('_________________________________________________________________________________________________________')\n",
    "print('model bez zmiennych o dużej dźwignii')\n",
    "summary(model_no_outliers)\n",
    "\n",
    "# jak widać dopasowanie modelu do danych pogorszyło się po usunięciu obserwacji\n",
    "# Adjusted R2 jest wyższy w pełnym modelu\n",
    "# natomiast bład standardowy reszt jest mniejszy (lepszy) w modelu z usuniętymi obserwacjami"
   ]
  },
  {
   "cell_type": "markdown",
   "id": "0fa6106f",
   "metadata": {},
   "source": [
    "v) Dla modelu dopasowanego do pełnego zbioru danych wyznacz reszty\n",
    "studentyzowane\n",
    "vi) Wyznacz obserwacje odstające korzystając z wektora reszt studentyzowanych.\n",
    "vii) Wyznacz obserwacje odstające korzystając z testu outlierTest.\n",
    "viii) Przedstaw i skomentuj wykres wpływów, zaznacz 3 obserwacje o\n",
    "największych odległościach Cooka.\n",
    "ix) Zdecyduj które z zaznaczonych obserwacji są obserwacjami wpływowymi.\n",
    "x) Zweryfikuj dokonany wybór za pomocą testu influence.measures\n",
    "xi) Usuń obserwacje wpływowe i ponownie dopasuj model."
   ]
  },
  {
   "cell_type": "markdown",
   "id": "4115471c",
   "metadata": {},
   "source": [
    "Zrobione powyżej."
   ]
  },
  {
   "cell_type": "markdown",
   "id": "bed5d7af",
   "metadata": {},
   "source": [
    "# Zadanie 4"
   ]
  },
  {
   "cell_type": "markdown",
   "id": "2010c707",
   "metadata": {},
   "source": [
    "Wczytywanie danych"
   ]
  },
  {
   "cell_type": "code",
   "execution_count": 36,
   "id": "de134965",
   "metadata": {},
   "outputs": [
    {
     "data": {
      "text/html": [
       "<table>\n",
       "<thead><tr><th scope=col>V1</th><th scope=col>V2</th></tr></thead>\n",
       "<tbody>\n",
       "\t<tr><td>15        </td><td> 5.2541984</td></tr>\n",
       "\t<tr><td>30        </td><td> 6.7132842</td></tr>\n",
       "\t<tr><td>30        </td><td>11.2666779</td></tr>\n",
       "\t<tr><td> 4        </td><td> 0.6183255</td></tr>\n",
       "\t<tr><td>26        </td><td> 1.7986432</td></tr>\n",
       "\t<tr><td>21        </td><td> 6.1584493</td></tr>\n",
       "</tbody>\n",
       "</table>\n"
      ],
      "text/latex": [
       "\\begin{tabular}{r|ll}\n",
       " V1 & V2\\\\\n",
       "\\hline\n",
       "\t 15         &  5.2541984\\\\\n",
       "\t 30         &  6.7132842\\\\\n",
       "\t 30         & 11.2666779\\\\\n",
       "\t  4         &  0.6183255\\\\\n",
       "\t 26         &  1.7986432\\\\\n",
       "\t 21         &  6.1584493\\\\\n",
       "\\end{tabular}\n"
      ],
      "text/markdown": [
       "\n",
       "| V1 | V2 |\n",
       "|---|---|\n",
       "| 15         |  5.2541984 |\n",
       "| 30         |  6.7132842 |\n",
       "| 30         | 11.2666779 |\n",
       "|  4         |  0.6183255 |\n",
       "| 26         |  1.7986432 |\n",
       "| 21         |  6.1584493 |\n",
       "\n"
      ],
      "text/plain": [
       "  V1 V2        \n",
       "1 15  5.2541984\n",
       "2 30  6.7132842\n",
       "3 30 11.2666779\n",
       "4  4  0.6183255\n",
       "5 26  1.7986432\n",
       "6 21  6.1584493"
      ]
     },
     "metadata": {},
     "output_type": "display_data"
    }
   ],
   "source": [
    "library(data.table)\n",
    "react <- fread('http://theta.edu.pl/wp-content/uploads/2018/03/DANE_predkosc_reakcji.txt')\n",
    "head(react)"
   ]
  },
  {
   "cell_type": "markdown",
   "id": "1e7b89b1",
   "metadata": {},
   "source": [
    "i) Przedstaw na wykresie punktowym zależność pomiędzy zmienną Predkosc\n",
    "i zmienną Koncentracja. Czy zależność ma charakter liniowy?"
   ]
  },
  {
   "cell_type": "code",
   "execution_count": 37,
   "id": "1fc20b49",
   "metadata": {},
   "outputs": [
    {
     "data": {
      "image/png": "[encoded data removed]",
      "text/plain": [
       "plot without title"
      ]
     },
     "metadata": {},
     "output_type": "display_data"
    }
   ],
   "source": [
    "plot(react$V1, react$V2, ylab = \"V2 - prędkość reakcji chemicznej\", xlab = \"V1 - koncentracja składowych\", pch = 19)\n",
    "\n",
    "# zależność nie ma charakteru liniowego"
   ]
  },
  {
   "cell_type": "markdown",
   "id": "8ea6433a",
   "metadata": {},
   "source": [
    "ii) Zastosuj transformację logarytmiczną dla zmiennej Predkosc, dla obu\n",
    "zmiennych Predkosc i Koncentracja oraz tylko dla zmiennej Koncentracja.\n",
    "Czy któraś z transformacji prowadzi do uzyskania liniowego charakteru zależności? Przedstaw odpowiednie wykresy punktowe danych. Przedstaw\n",
    "wykresy reszt dla tych trzech modeli. Czy można zauważyć jakiś trend w\n",
    "układzie reszt czy też układają się one w sposób losowy? Co to oznacza dla\n",
    "dopasowanego modelu?"
   ]
  },
  {
   "cell_type": "code",
   "execution_count": 40,
   "id": "9dd85314",
   "metadata": {},
   "outputs": [
    {
     "data": {
      "text/plain": [
       "NULL"
      ]
     },
     "metadata": {},
     "output_type": "display_data"
    },
    {
     "data": {
      "image/png": "[encoded data removed]",
      "text/plain": [
       "plot without title"
      ]
     },
     "metadata": {},
     "output_type": "display_data"
    }
   ],
   "source": [
    "predkosc_log <- plot(react$V1, log(react$V2), ylab = \"V2 - log(prędkość reakcji chemicznej)\", xlab = \"V1 - koncentracja składowych\", pch = 19)\n",
    "\n",
    "predkosc_log\n",
    "\n",
    "# zlogarytmowanie zmiennej 'prędkość' robi nam zależnoś liniową"
   ]
  },
  {
   "cell_type": "code",
   "execution_count": 41,
   "id": "9fdee061",
   "metadata": {},
   "outputs": [
    {
     "data": {
      "text/plain": [
       "NULL"
      ]
     },
     "metadata": {},
     "output_type": "display_data"
    },
    {
     "data": {
      "image/png": "[encoded data removed]",
      "text/plain": [
       "plot without title"
      ]
     },
     "metadata": {},
     "output_type": "display_data"
    }
   ],
   "source": [
    "koncentracja_log <- plot(log(react$V1), react$V2, ylab = \"V2 - prędkość reakcji chemicznej\", xlab = \"V1 - log(koncentracja składowych)\", pch = 19)\n",
    "\n",
    "koncentracja_log\n",
    "\n",
    "# zlogarytmowanie zmiennej 'prędkość' nie robi nam zależności liniowej"
   ]
  },
  {
   "cell_type": "code",
   "execution_count": 42,
   "id": "08bf7900",
   "metadata": {},
   "outputs": [
    {
     "data": {
      "text/plain": [
       "NULL"
      ]
     },
     "metadata": {},
     "output_type": "display_data"
    },
    {
     "data": {
      "image/png": "[encoded data removed]",
      "text/plain": [
       "plot without title"
      ]
     },
     "metadata": {},
     "output_type": "display_data"
    }
   ],
   "source": [
    "all_log <- plot(log(react$V1), log(react$V2), ylab = \"V2 - log(prędkość reakcji chemicznej)\", xlab = \"V1 - log(koncentracja składowych)\", pch = 19)\n",
    "\n",
    "all_log\n",
    "\n",
    "# zlogarytmowanie zmiennej 'prędkość' robi nam zależność liniową"
   ]
  },
  {
   "cell_type": "markdown",
   "id": "04c32e64",
   "metadata": {},
   "source": [
    "iii) Dopasuj model wielomianowy stosując wielomian stopnia 2 dla zmiennej Koncentracja, tzn model\n",
    "Predkosc = β0 + β1 ∗ Koncentracja + β2 ∗ (Koncentracja)\n",
    "2"
   ]
  },
  {
   "cell_type": "code",
   "execution_count": 43,
   "id": "af7dbb1a",
   "metadata": {},
   "outputs": [
    {
     "data": {
      "text/plain": [
       "\n",
       "Call:\n",
       "lm(formula = V2 ~ V1 + I(V1^2), data = react)\n",
       "\n",
       "Residuals:\n",
       "      1       2       3       4       5       6       7 \n",
       " 2.4286 -1.0292  3.5242 -0.6036 -4.3247  1.7441 -1.7393 \n",
       "\n",
       "Coefficients:\n",
       "            Estimate Std. Error t value Pr(>|t|)\n",
       "(Intercept)  1.05881    5.13655   0.206    0.847\n",
       "V1           0.01278    0.62297   0.021    0.985\n",
       "I(V1^2)      0.00700    0.01711   0.409    0.703\n",
       "\n",
       "Residual standard error: 3.336 on 4 degrees of freedom\n",
       "Multiple R-squared:  0.4529,\tAdjusted R-squared:  0.1794 \n",
       "F-statistic: 1.656 on 2 and 4 DF,  p-value: 0.2993\n"
      ]
     },
     "metadata": {},
     "output_type": "display_data"
    }
   ],
   "source": [
    "model2 <- lm(V2 ~ V1 + I(V1^2), data = react)\n",
    "summary(model2)"
   ]
  },
  {
   "cell_type": "markdown",
   "id": "43746870",
   "metadata": {},
   "source": [
    "iv) Przedstaw dopasowaną krzywą na wykresie wraz z danymi. Podsumuj wyniki dopasowanego modelu. Jaki jest współczynnik dopasowania\n",
    "tego modelu? Czy jest to model właściwy do opisu danych?"
   ]
  },
  {
   "cell_type": "code",
   "execution_count": 48,
   "id": "cdda8a05",
   "metadata": {},
   "outputs": [
    {
     "data": {
      "text/plain": [
       "\n",
       "Call:\n",
       "lm(formula = V2 ~ V1 + I(V1^2), data = react)\n",
       "\n",
       "Residuals:\n",
       "      1       2       3       4       5       6       7 \n",
       " 2.4286 -1.0292  3.5242 -0.6036 -4.3247  1.7441 -1.7393 \n",
       "\n",
       "Coefficients:\n",
       "            Estimate Std. Error t value Pr(>|t|)\n",
       "(Intercept)  1.05881    5.13655   0.206    0.847\n",
       "V1           0.01278    0.62297   0.021    0.985\n",
       "I(V1^2)      0.00700    0.01711   0.409    0.703\n",
       "\n",
       "Residual standard error: 3.336 on 4 degrees of freedom\n",
       "Multiple R-squared:  0.4529,\tAdjusted R-squared:  0.1794 \n",
       "F-statistic: 1.656 on 2 and 4 DF,  p-value: 0.2993\n"
      ]
     },
     "metadata": {},
     "output_type": "display_data"
    },
    {
     "data": {
      "image/png": "[encoded data removed]",
      "text/plain": [
       "plot without title"
      ]
     },
     "metadata": {},
     "output_type": "display_data"
    }
   ],
   "source": [
    "plot(react$V1, react$V2, ylab = \"V2 - prędkość reakcji chemicznej\", xlab = \"V1 - koncentracja składowych\", pch = 19)\n",
    "\n",
    "curve(1.05881 + 0.01278*x + 0.00700*x^2, add = T)\n",
    "\n",
    "summary(model2)\n",
    "\n",
    "# współczynnik dopasowania Adjusted R2 wynosi 0.18\n",
    "# to jest bardzo mało, model nie jest właściwy do danych"
   ]
  },
  {
   "cell_type": "markdown",
   "id": "589a4f91",
   "metadata": {},
   "source": [
    " Dopasuj model wielomianowy stosując wielomian stopnia 6 dla zmiennej ( Koncentracja), tzn model\n",
    "Predkosc = β0+β1∗Koncentracja+β2∗(Koncentracja)\n",
    "2+β3∗(Koncentracja)\n",
    "3\n",
    "+β4 ∗ (Koncentracja)\n",
    "4 + β5 ∗ (Koncentracja)\n",
    "5 + β6 ∗ (Koncentracja)\n",
    "6"
   ]
  },
  {
   "cell_type": "code",
   "execution_count": 50,
   "id": "fdc4b217",
   "metadata": {},
   "outputs": [
    {
     "data": {
      "text/plain": [
       "\n",
       "Call:\n",
       "lm(formula = V2 ~ V1 + I(V1^2) + I(V1^3) + I(V1^4) + I(V1^5) + \n",
       "    I(V1^6), data = react)\n",
       "\n",
       "Residuals:\n",
       "         1          2          3          4          5          6          7 \n",
       " 5.779e-13 -2.277e+00  2.277e+00 -1.624e-14 -6.820e-13  2.620e-12 -2.644e-12 \n",
       "\n",
       "Coefficients: (1 not defined because of singularities)\n",
       "              Estimate Std. Error t value Pr(>|t|)\n",
       "(Intercept) -5.207e+02  4.773e+02  -1.091    0.472\n",
       "V1           2.285e+02  2.090e+02   1.093    0.472\n",
       "I(V1^2)     -3.133e+01  2.862e+01  -1.095    0.471\n",
       "I(V1^3)      1.905e+00  1.730e+00   1.101    0.469\n",
       "I(V1^4)     -5.359e-02  4.831e-02  -1.109    0.467\n",
       "I(V1^5)      5.701e-04  5.091e-04   1.120    0.464\n",
       "I(V1^6)             NA         NA      NA       NA\n",
       "\n",
       "Residual standard error: 3.22 on 1 degrees of freedom\n",
       "Multiple R-squared:  0.8726,\tAdjusted R-squared:  0.2355 \n",
       "F-statistic:  1.37 on 5 and 1 DF,  p-value: 0.5681\n"
      ]
     },
     "metadata": {},
     "output_type": "display_data"
    }
   ],
   "source": [
    "model6 <- lm(V2 ~ V1 + I(V1^2) + I(V1^3) + I(V1^4) + I(V1^5) + I(V1^6), data = react)\n",
    "summary(model6)"
   ]
  },
  {
   "cell_type": "markdown",
   "id": "55888b21",
   "metadata": {},
   "source": [
    "vi) Przedstaw dopasowaną krzywą na wykresie wraz z danymi. Podsumuj wyniki dopasowanego modelu. Jaki jest współczynnik dopasowania\n",
    "tego modelu? Czy jest to model właściwy do opisu danych? Czy jest on dobry dla przewidywania wartości zmiennej Predkosc dla nowych obserwacji?"
   ]
  },
  {
   "cell_type": "code",
   "execution_count": 52,
   "id": "de4118ce",
   "metadata": {},
   "outputs": [
    {
     "data": {
      "text/plain": [
       "\n",
       "Call:\n",
       "lm(formula = V2 ~ V1 + I(V1^2) + I(V1^3) + I(V1^4) + I(V1^5) + \n",
       "    I(V1^6), data = react)\n",
       "\n",
       "Residuals:\n",
       "         1          2          3          4          5          6          7 \n",
       " 5.779e-13 -2.277e+00  2.277e+00 -1.624e-14 -6.820e-13  2.620e-12 -2.644e-12 \n",
       "\n",
       "Coefficients: (1 not defined because of singularities)\n",
       "              Estimate Std. Error t value Pr(>|t|)\n",
       "(Intercept) -5.207e+02  4.773e+02  -1.091    0.472\n",
       "V1           2.285e+02  2.090e+02   1.093    0.472\n",
       "I(V1^2)     -3.133e+01  2.862e+01  -1.095    0.471\n",
       "I(V1^3)      1.905e+00  1.730e+00   1.101    0.469\n",
       "I(V1^4)     -5.359e-02  4.831e-02  -1.109    0.467\n",
       "I(V1^5)      5.701e-04  5.091e-04   1.120    0.464\n",
       "I(V1^6)             NA         NA      NA       NA\n",
       "\n",
       "Residual standard error: 3.22 on 1 degrees of freedom\n",
       "Multiple R-squared:  0.8726,\tAdjusted R-squared:  0.2355 \n",
       "F-statistic:  1.37 on 5 and 1 DF,  p-value: 0.5681\n"
      ]
     },
     "metadata": {},
     "output_type": "display_data"
    },
    {
     "data": {
      "image/png": "[encoded data removed]",
      "text/plain": [
       "plot without title"
      ]
     },
     "metadata": {},
     "output_type": "display_data"
    }
   ],
   "source": [
    "plot(react$V1, react$V2, ylab = \"V2 - prędkość reakcji chemicznej\", xlab = \"V1 - koncentracja składowych\", pch = 19)\n",
    "\n",
    "curve(-5.207e+02 + 2.285e+02*x + -3.133e+01*x^2 + 1.905e+00*x^3 + -5.359e-02*x^4 + 5.701e-04*x^5, add = T)\n",
    "\n",
    "summary(model6)\n",
    "\n",
    "\n",
    "# dodanie kolejnych wykładników poprawiła Adjusted R2\n",
    "# jednak jest on nadal bardzo niski\n",
    "# nie jest to dobry model do tych danych"
   ]
  }
 ],
 "metadata": {
  "kernelspec": {
   "display_name": "R",
   "language": "R",
   "name": "ir"
  },
  "language_info": {
   "codemirror_mode": "r",
   "file_extension": ".r",
   "mimetype": "text/x-r-source",
   "name": "R",
   "pygments_lexer": "r",
   "version": "3.6.1"
  }
 },
 "nbformat": 4,
 "nbformat_minor": 5
}
