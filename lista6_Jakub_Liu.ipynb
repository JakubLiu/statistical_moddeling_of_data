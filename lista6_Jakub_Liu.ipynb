{
 "cells": [
  {
   "cell_type": "markdown",
   "id": "0db488a7",
   "metadata": {},
   "source": [
    "# zadanie 11"
   ]
  },
  {
   "cell_type": "code",
   "execution_count": 45,
   "id": "249ab3ae",
   "metadata": {},
   "outputs": [
    {
     "data": {
      "text/html": [
       "<table>\n",
       "<thead><tr><th scope=col>npreg</th><th scope=col>glu</th><th scope=col>bp</th><th scope=col>skin</th><th scope=col>bmi</th><th scope=col>ped</th><th scope=col>age</th><th scope=col>type</th></tr></thead>\n",
       "<tbody>\n",
       "\t<tr><td>6    </td><td>148  </td><td>72   </td><td>35   </td><td>33.6 </td><td>0.627</td><td>50   </td><td>1    </td></tr>\n",
       "\t<tr><td>1    </td><td> 85  </td><td>66   </td><td>29   </td><td>26.6 </td><td>0.351</td><td>31   </td><td>0    </td></tr>\n",
       "\t<tr><td>1    </td><td> 89  </td><td>66   </td><td>23   </td><td>28.1 </td><td>0.167</td><td>21   </td><td>0    </td></tr>\n",
       "\t<tr><td>3    </td><td> 78  </td><td>50   </td><td>32   </td><td>31.0 </td><td>0.248</td><td>26   </td><td>1    </td></tr>\n",
       "\t<tr><td>2    </td><td>197  </td><td>70   </td><td>45   </td><td>30.5 </td><td>0.158</td><td>53   </td><td>1    </td></tr>\n",
       "\t<tr><td>5    </td><td>166  </td><td>72   </td><td>19   </td><td>25.8 </td><td>0.587</td><td>51   </td><td>1    </td></tr>\n",
       "</tbody>\n",
       "</table>\n"
      ],
      "text/latex": [
       "\\begin{tabular}{r|llllllll}\n",
       " npreg & glu & bp & skin & bmi & ped & age & type\\\\\n",
       "\\hline\n",
       "\t 6     & 148   & 72    & 35    & 33.6  & 0.627 & 50    & 1    \\\\\n",
       "\t 1     &  85   & 66    & 29    & 26.6  & 0.351 & 31    & 0    \\\\\n",
       "\t 1     &  89   & 66    & 23    & 28.1  & 0.167 & 21    & 0    \\\\\n",
       "\t 3     &  78   & 50    & 32    & 31.0  & 0.248 & 26    & 1    \\\\\n",
       "\t 2     & 197   & 70    & 45    & 30.5  & 0.158 & 53    & 1    \\\\\n",
       "\t 5     & 166   & 72    & 19    & 25.8  & 0.587 & 51    & 1    \\\\\n",
       "\\end{tabular}\n"
      ],
      "text/markdown": [
       "\n",
       "| npreg | glu | bp | skin | bmi | ped | age | type |\n",
       "|---|---|---|---|---|---|---|---|\n",
       "| 6     | 148   | 72    | 35    | 33.6  | 0.627 | 50    | 1     |\n",
       "| 1     |  85   | 66    | 29    | 26.6  | 0.351 | 31    | 0     |\n",
       "| 1     |  89   | 66    | 23    | 28.1  | 0.167 | 21    | 0     |\n",
       "| 3     |  78   | 50    | 32    | 31.0  | 0.248 | 26    | 1     |\n",
       "| 2     | 197   | 70    | 45    | 30.5  | 0.158 | 53    | 1     |\n",
       "| 5     | 166   | 72    | 19    | 25.8  | 0.587 | 51    | 1     |\n",
       "\n"
      ],
      "text/plain": [
       "  npreg glu bp skin bmi  ped   age type\n",
       "1 6     148 72 35   33.6 0.627 50  1   \n",
       "2 1      85 66 29   26.6 0.351 31  0   \n",
       "3 1      89 66 23   28.1 0.167 21  0   \n",
       "4 3      78 50 32   31.0 0.248 26  1   \n",
       "5 2     197 70 45   30.5 0.158 53  1   \n",
       "6 5     166 72 19   25.8 0.587 51  1   "
      ]
     },
     "metadata": {},
     "output_type": "display_data"
    }
   ],
   "source": [
    "#install.packages(\"MASS\")\n",
    "library(MASS)\n",
    "data(\"Pima.te\")\n",
    "pima <- Pima.te\n",
    "pima$type<-ifelse(pima$type==\"Yes\",1,0) # zamiana zmiennej objaśnianej na 0, 1\n",
    "head(pima)"
   ]
  },
  {
   "cell_type": "markdown",
   "id": "ba8d48f4",
   "metadata": {},
   "source": [
    "### metoda QDA"
   ]
  },
  {
   "cell_type": "markdown",
   "id": "3db21b63",
   "metadata": {},
   "source": [
    "#### model oparty o cross walidację"
   ]
  },
  {
   "cell_type": "code",
   "execution_count": 46,
   "id": "7569cddd",
   "metadata": {},
   "outputs": [
    {
     "data": {
      "text/plain": [
       "          Length Class  Mode   \n",
       "class     332    factor numeric\n",
       "posterior 664    -none- numeric\n",
       "terms       3    terms  call   \n",
       "call        4    -none- call   \n",
       "xlevels     0    -none- list   "
      ]
     },
     "metadata": {},
     "output_type": "display_data"
    }
   ],
   "source": [
    "pima_qda_cv <- qda(type ~ npreg + glu + bp + skin + bmi + ped + age, data = pima, CV = TRUE)\n",
    "summary(pima_qda_cv)"
   ]
  },
  {
   "cell_type": "code",
   "execution_count": 64,
   "id": "d17e696a",
   "metadata": {},
   "outputs": [
    {
     "data": {
      "text/plain": [
       "      Predicted\n",
       "Actual   0   1\n",
       "     0 191  32\n",
       "     1  42  67"
      ]
     },
     "metadata": {},
     "output_type": "display_data"
    },
    {
     "data": {
      "text/html": [
       "0.22289156626506"
      ],
      "text/latex": [
       "0.22289156626506"
      ],
      "text/markdown": [
       "0.22289156626506"
      ],
      "text/plain": [
       "[1] 0.2228916"
      ]
     },
     "metadata": {},
     "output_type": "display_data"
    }
   ],
   "source": [
    "QDA_cv_actual <- pima$type\n",
    "QDA_cv_predicted <- pima_qda_cv$class\n",
    "\n",
    "QDA_confusion_matrix <- table(QDA_cv_actual, QDA_cv_predicted, dnn = c(\"Actual\", \"Predicted\"))\n",
    "\n",
    "QDA_cv_prediction_error <- mean(QDA_cv_actual != QDA_cv_predicted)\n",
    "\n",
    "QDA_cv_confusion_matrix\n",
    "QDA_cv_prediction_error"
   ]
  },
  {
   "cell_type": "markdown",
   "id": "095a6f34",
   "metadata": {},
   "source": [
    "#### model oparty o metodę bootstrap"
   ]
  },
  {
   "cell_type": "code",
   "execution_count": 65,
   "id": "0a541b79",
   "metadata": {},
   "outputs": [],
   "source": [
    "library(ipred)\n",
    "\n",
    "mypredict.qda <- function(object, newdata)\n",
    "  as.numeric(predict(object, newdata = newdata)$class)\n",
    "\n",
    "\n",
    "QDA_boot_prediction_error <- errorest(type ~ ., data = pima, model = qda, estimator = 'boot', predict = mypredict.qda)"
   ]
  },
  {
   "cell_type": "markdown",
   "id": "71950ede",
   "metadata": {},
   "source": [
    "### metoda LDA"
   ]
  },
  {
   "cell_type": "markdown",
   "id": "011424b2",
   "metadata": {},
   "source": [
    "#### model oparty o cross walidację"
   ]
  },
  {
   "cell_type": "code",
   "execution_count": 66,
   "id": "8b097d74",
   "metadata": {},
   "outputs": [
    {
     "data": {
      "text/plain": [
       "          Length Class  Mode   \n",
       "class     332    factor numeric\n",
       "posterior 664    -none- numeric\n",
       "terms       3    terms  call   \n",
       "call        4    -none- call   \n",
       "xlevels     0    -none- list   "
      ]
     },
     "metadata": {},
     "output_type": "display_data"
    }
   ],
   "source": [
    "pima_lda_cv <- lda(type ~ npreg + glu + bp + skin + bmi + ped + age, data = pima, CV = TRUE)\n",
    "summary(pima_lda_cv)"
   ]
  },
  {
   "cell_type": "code",
   "execution_count": 67,
   "id": "b5a9c009",
   "metadata": {},
   "outputs": [
    {
     "data": {
      "text/plain": [
       "      Predicted\n",
       "Actual   0   1\n",
       "     0 198  25\n",
       "     1  47  62"
      ]
     },
     "metadata": {},
     "output_type": "display_data"
    },
    {
     "data": {
      "text/html": [
       "0.216867469879518"
      ],
      "text/latex": [
       "0.216867469879518"
      ],
      "text/markdown": [
       "0.216867469879518"
      ],
      "text/plain": [
       "[1] 0.2168675"
      ]
     },
     "metadata": {},
     "output_type": "display_data"
    }
   ],
   "source": [
    "LDA_cv_actual <- pima$type\n",
    "LDA_cv_predicted <- pima_lda_cv$class\n",
    "\n",
    "LDA_confusion_matrix <- table(LDA_cv_actual, LDA_cv_predicted, dnn = c(\"Actual\", \"Predicted\"))\n",
    "\n",
    "LDA_cv_prediction_error <- mean(LDA_cv_actual != LDA_cv_predicted)\n",
    "\n",
    "LDA_cv_confusion_matrix\n",
    "LDA_cv_prediction_error"
   ]
  },
  {
   "cell_type": "markdown",
   "id": "94f162d7",
   "metadata": {},
   "source": [
    "#### model oparty o metodę bootstrap"
   ]
  },
  {
   "cell_type": "code",
   "execution_count": 68,
   "id": "6f1b51e8",
   "metadata": {},
   "outputs": [],
   "source": [
    "library(ipred)\n",
    "\n",
    "mypredict.lda <- function(object, newdata)\n",
    "  as.numeric(predict(object, newdata = newdata)$class)\n",
    "\n",
    "\n",
    "LDA_boot_prediction_error <- errorest(type ~ ., data = pima, model = lda, estimator = 'boot', predict = mypredict.lda)"
   ]
  },
  {
   "cell_type": "markdown",
   "id": "be462c0d",
   "metadata": {},
   "source": [
    "### porównanie proporcji błędnych klasyfikacji dla modeli opartych o cross walidację"
   ]
  },
  {
   "cell_type": "code",
   "execution_count": 69,
   "id": "befdf89e",
   "metadata": {},
   "outputs": [
    {
     "name": "stdout",
     "output_type": "stream",
     "text": [
      "[1] \"QDA-proporcja błędnych klasyfikacji\"\n"
     ]
    },
    {
     "data": {
      "text/html": [
       "0.22289156626506"
      ],
      "text/latex": [
       "0.22289156626506"
      ],
      "text/markdown": [
       "0.22289156626506"
      ],
      "text/plain": [
       "[1] 0.2228916"
      ]
     },
     "metadata": {},
     "output_type": "display_data"
    },
    {
     "name": "stdout",
     "output_type": "stream",
     "text": [
      "[1] \"----------------------------------------------------------------------------------------------\"\n",
      "[1] \"LDA-proporcja błędnych klasyfikacji\"\n"
     ]
    },
    {
     "data": {
      "text/html": [
       "0.216867469879518"
      ],
      "text/latex": [
       "0.216867469879518"
      ],
      "text/markdown": [
       "0.216867469879518"
      ],
      "text/plain": [
       "[1] 0.2168675"
      ]
     },
     "metadata": {},
     "output_type": "display_data"
    }
   ],
   "source": [
    "print(\"QDA-proporcja błędnych klasyfikacji\")\n",
    "QDA_cv_prediction_error\n",
    "print(\"----------------------------------------------------------------------------------------------\")\n",
    "print(\"LDA-proporcja błędnych klasyfikacji\")\n",
    "LDA_cv_prediction_error"
   ]
  },
  {
   "cell_type": "markdown",
   "id": "3d2b1c3d",
   "metadata": {},
   "source": [
    "### porównaie błędów dla modeli opartych o metodę bootstrap"
   ]
  },
  {
   "cell_type": "code",
   "execution_count": 70,
   "id": "b9b4cef8",
   "metadata": {},
   "outputs": [
    {
     "name": "stdout",
     "output_type": "stream",
     "text": [
      "[1] \"QDA-proporcja błędnych klasyfikacji\"\n"
     ]
    },
    {
     "data": {
      "text/plain": [
       "\n",
       "Call:\n",
       "errorest.data.frame(formula = type ~ ., data = pima, model = qda, \n",
       "    predict = mypredict.qda, estimator = \"boot\")\n",
       "\n",
       "\t Bootstrap estimator of root mean squared error \n",
       "\t with 25 bootstrap replications\n",
       "\n",
       "Root mean squared error:  1.0808 \n"
      ]
     },
     "metadata": {},
     "output_type": "display_data"
    },
    {
     "name": "stdout",
     "output_type": "stream",
     "text": [
      "[1] \"------------------------------------------------------------------------------------------------------------\"\n",
      "[1] \"LDA-proporcja błędnych klasyfikacji\"\n"
     ]
    },
    {
     "data": {
      "text/plain": [
       "\n",
       "Call:\n",
       "errorest.data.frame(formula = type ~ ., data = pima, model = lda, \n",
       "    predict = mypredict.lda, estimator = \"boot\")\n",
       "\n",
       "\t Bootstrap estimator of root mean squared error \n",
       "\t with 25 bootstrap replications\n",
       "\n",
       "Root mean squared error:  1.0396 \n"
      ]
     },
     "metadata": {},
     "output_type": "display_data"
    }
   ],
   "source": [
    "print(\"QDA-proporcja błędnych klasyfikacji\")\n",
    "QDA_boot_prediction_error\n",
    "print(\"------------------------------------------------------------------------------------------------------------\")\n",
    "print(\"LDA-proporcja błędnych klasyfikacji\")\n",
    "LDA_boot_prediction_error"
   ]
  },
  {
   "cell_type": "markdown",
   "id": "6bb890e2",
   "metadata": {},
   "source": [
    "### porównanie specyficzności i czułości modeli LDA i QDA"
   ]
  },
  {
   "cell_type": "code",
   "execution_count": 73,
   "id": "21808a2b",
   "metadata": {},
   "outputs": [],
   "source": [
    "\n",
    "\n",
    "LDA_TN <- LDA_confusion_matrix[1]\n",
    "LDA_FN <- LDA_confusion_matrix[2]\n",
    "LDA_FP <- LDA_confusion_matrix[3]\n",
    "LDA_TP <- LDA_confusion_matrix[4]\n",
    "\n",
    "LDA_sensitivity <- LDA_TP/(LDA_TP + LDA_FN)\n",
    "\n",
    "LDA_specificity <- LDA_TN/(LDA_TN + LDA_FP)"
   ]
  },
  {
   "cell_type": "code",
   "execution_count": 72,
   "id": "e61a44b9",
   "metadata": {},
   "outputs": [],
   "source": [
    "#QDA_confusion_matrix\n",
    "\n",
    "QDA_TN <- QDA_confusion_matrix[1]\n",
    "QDA_FN <- QDA_confusion_matrix[2]\n",
    "QDA_FP <- QDA_confusion_matrix[3]\n",
    "QDA_TP <- QDA_confusion_matrix[4]\n",
    "\n",
    "QDA_sensitivity <- QDA_TP/(QDA_TP + QDA_FN)\n",
    "\n",
    "QDA_specificity <- QDA_TN/(QDA_TN + QDA_FP)"
   ]
  },
  {
   "cell_type": "code",
   "execution_count": 74,
   "id": "d8af162c",
   "metadata": {},
   "outputs": [
    {
     "name": "stdout",
     "output_type": "stream",
     "text": [
      "[1] \"Czułość LDA\"\n"
     ]
    },
    {
     "data": {
      "text/html": [
       "0.568807339449541"
      ],
      "text/latex": [
       "0.568807339449541"
      ],
      "text/markdown": [
       "0.568807339449541"
      ],
      "text/plain": [
       "[1] 0.5688073"
      ]
     },
     "metadata": {},
     "output_type": "display_data"
    },
    {
     "name": "stdout",
     "output_type": "stream",
     "text": [
      "[1] \"Czułość QDA\"\n"
     ]
    },
    {
     "data": {
      "text/html": [
       "0.614678899082569"
      ],
      "text/latex": [
       "0.614678899082569"
      ],
      "text/markdown": [
       "0.614678899082569"
      ],
      "text/plain": [
       "[1] 0.6146789"
      ]
     },
     "metadata": {},
     "output_type": "display_data"
    },
    {
     "name": "stdout",
     "output_type": "stream",
     "text": [
      "[1] \"Specyficzność LDA\"\n"
     ]
    },
    {
     "data": {
      "text/html": [
       "0.887892376681614"
      ],
      "text/latex": [
       "0.887892376681614"
      ],
      "text/markdown": [
       "0.887892376681614"
      ],
      "text/plain": [
       "[1] 0.8878924"
      ]
     },
     "metadata": {},
     "output_type": "display_data"
    },
    {
     "name": "stdout",
     "output_type": "stream",
     "text": [
      "[1] \"Specyficzność LDA\"\n"
     ]
    },
    {
     "data": {
      "text/html": [
       "0.856502242152466"
      ],
      "text/latex": [
       "0.856502242152466"
      ],
      "text/markdown": [
       "0.856502242152466"
      ],
      "text/plain": [
       "[1] 0.8565022"
      ]
     },
     "metadata": {},
     "output_type": "display_data"
    }
   ],
   "source": [
    "print(\"Czułość LDA\")\n",
    "LDA_sensitivity\n",
    "print(\"Czułość QDA\")\n",
    "QDA_sensitivity\n",
    "print(\"Specyficzność LDA\")\n",
    "LDA_specificity\n",
    "print(\"Specyficzność LDA\")\n",
    "QDA_specificity"
   ]
  },
  {
   "cell_type": "markdown",
   "id": "cdfd7d6d",
   "metadata": {},
   "source": [
    "### porównanie krzywych ROC"
   ]
  },
  {
   "cell_type": "markdown",
   "id": "fa918a01",
   "metadata": {},
   "source": [
    "#### train test split"
   ]
  },
  {
   "cell_type": "code",
   "execution_count": 75,
   "id": "efbef672",
   "metadata": {},
   "outputs": [],
   "source": [
    "center <- floor(nrow(pima)/2)\n",
    "pima_test <- pima[1:center,]\n",
    "pima_train <- pima[center:nrow(pima),]"
   ]
  },
  {
   "cell_type": "markdown",
   "id": "2658e202",
   "metadata": {},
   "source": [
    "#### model LDA"
   ]
  },
  {
   "cell_type": "code",
   "execution_count": 76,
   "id": "4b6a9556",
   "metadata": {},
   "outputs": [
    {
     "data": {
      "image/png": "[encoded data removed]",
      "text/plain": [
       "plot without title"
      ]
     },
     "metadata": {},
     "output_type": "display_data"
    }
   ],
   "source": [
    "model_LDA <- lda(type ~ npreg + glu + bp + skin + bmi + ped + age, data = pima_train)\n",
    "\n",
    "LDA_pred <- predict(model_LDA, newdata = pima_test)\n",
    "\n",
    "LDA_pred_posteriori <- as.data.frame(LDA_pred$posterior)\n",
    "\n",
    "LDA_pred <- prediction(LDA_pred_posteriori[,2], pima_test$type)\n",
    "\n",
    "LDA_roc.perf = performance(LDA_pred, measure = \"tpr\", x.measure = \"fpr\")\n",
    "\n",
    "plot(LDA_roc.perf)\n",
    "abline(a=0, b= 1)"
   ]
  },
  {
   "cell_type": "markdown",
   "id": "2654f5e3",
   "metadata": {},
   "source": [
    "#### model QDA"
   ]
  },
  {
   "cell_type": "code",
   "execution_count": 77,
   "id": "d6f0536a",
   "metadata": {},
   "outputs": [
    {
     "data": {
      "image/png": "[encoded data removed]",
      "text/plain": [
       "plot without title"
      ]
     },
     "metadata": {},
     "output_type": "display_data"
    }
   ],
   "source": [
    "model_QDA <- qda(type ~ npreg + glu + bp + skin + bmi + ped + age, data = pima_train)\n",
    "\n",
    "QDA_pred <- predict(model_QDA, newdata = pima_test)\n",
    "\n",
    "QDA_pred_posteriori <- as.data.frame(QDA_pred$posterior)\n",
    "\n",
    "QDA_pred <- prediction(QDA_pred_posteriori[,2], pima_test$type)\n",
    "\n",
    "QDA_roc.perf = performance(QDA_pred, measure = \"tpr\", x.measure = \"fpr\")\n",
    "\n",
    "plot(QDA_roc.perf)\n",
    "abline(a=0, b= 1)"
   ]
  },
  {
   "cell_type": "markdown",
   "id": "54be2e27",
   "metadata": {},
   "source": [
    "Jak widać na podstawie błędu predykcji oraz czułości i specyficzności, dla wybranych danych, model LDA jest lepszym klasyfikatorem."
   ]
  }
 ],
 "metadata": {
  "kernelspec": {
   "display_name": "R",
   "language": "R",
   "name": "ir"
  },
  "language_info": {
   "codemirror_mode": "r",
   "file_extension": ".r",
   "mimetype": "text/x-r-source",
   "name": "R",
   "pygments_lexer": "r",
   "version": "3.6.1"
  }
 },
 "nbformat": 4,
 "nbformat_minor": 5
}
