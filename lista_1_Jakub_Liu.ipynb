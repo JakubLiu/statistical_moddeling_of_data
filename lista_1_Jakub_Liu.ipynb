{
 "cells": [
  {
   "cell_type": "markdown",
   "id": "39972b1b",
   "metadata": {},
   "source": [
    "# lista1_zadanie1"
   ]
  },
  {
   "cell_type": "markdown",
   "id": "60b7c810",
   "metadata": {},
   "source": [
    "Instalowanie pakietu"
   ]
  },
  {
   "cell_type": "code",
   "execution_count": 3,
   "id": "8178f97f",
   "metadata": {},
   "outputs": [
    {
     "name": "stderr",
     "output_type": "stream",
     "text": [
      "Installing package into 'C:/Users/Lenovo/Documents/R/win-library/3.6'\n",
      "(as 'lib' is unspecified)\n"
     ]
    },
    {
     "name": "stdout",
     "output_type": "stream",
     "text": [
      "package 'ISwR' successfully unpacked and MD5 sums checked\n",
      "\n",
      "The downloaded binary packages are in\n",
      "\tC:\\Users\\Lenovo\\AppData\\Local\\Temp\\RtmpMHq44E\\downloaded_packages\n"
     ]
    }
   ],
   "source": [
    "install.packages('ISwR')"
   ]
  },
  {
   "cell_type": "markdown",
   "id": "e701983c",
   "metadata": {},
   "source": [
    "Sprawdzanie czy pakiet został zainstalowany oraz powoływanie się na dany pakiet"
   ]
  },
  {
   "cell_type": "code",
   "execution_count": 1,
   "id": "43137962",
   "metadata": {},
   "outputs": [
    {
     "data": {
      "text/html": [
       "'C:/Users/Lenovo/Documents/R/win-library/3.6/ISwR'"
      ],
      "text/latex": [
       "'C:/Users/Lenovo/Documents/R/win-library/3.6/ISwR'"
      ],
      "text/markdown": [
       "'C:/Users/Lenovo/Documents/R/win-library/3.6/ISwR'"
      ],
      "text/plain": [
       "[1] \"C:/Users/Lenovo/Documents/R/win-library/3.6/ISwR\""
      ]
     },
     "metadata": {},
     "output_type": "display_data"
    },
    {
     "name": "stderr",
     "output_type": "stream",
     "text": [
      "Warning message:\n",
      "\"package 'ISwR' was built under R version 3.6.3\""
     ]
    }
   ],
   "source": [
    "system.file(package='ISwR')\n",
    "library(ISwR)\n",
    "#R.version"
   ]
  },
  {
   "cell_type": "code",
   "execution_count": 2,
   "id": "849db3bd",
   "metadata": {},
   "outputs": [
    {
     "data": {
      "text/html": [
       "<table>\n",
       "<thead><tr><th scope=col>no</th><th scope=col>dl.milk</th><th scope=col>sex</th><th scope=col>weight</th><th scope=col>ml.suppl</th><th scope=col>mat.weight</th><th scope=col>mat.height</th></tr></thead>\n",
       "<tbody>\n",
       "\t<tr><td> 1   </td><td>8.42 </td><td>boy  </td><td>5.002</td><td>250  </td><td>65   </td><td>173  </td></tr>\n",
       "\t<tr><td> 4   </td><td>8.44 </td><td>boy  </td><td>5.128</td><td>  0  </td><td>48   </td><td>158  </td></tr>\n",
       "\t<tr><td> 5   </td><td>8.41 </td><td>boy  </td><td>5.445</td><td> 40  </td><td>62   </td><td>160  </td></tr>\n",
       "\t<tr><td>10   </td><td>9.65 </td><td>boy  </td><td>5.106</td><td> 60  </td><td>55   </td><td>162  </td></tr>\n",
       "\t<tr><td>12   </td><td>6.44 </td><td>boy  </td><td>5.196</td><td>240  </td><td>58   </td><td>170  </td></tr>\n",
       "\t<tr><td>16   </td><td>6.29 </td><td>boy  </td><td>5.526</td><td>  0  </td><td>56   </td><td>153  </td></tr>\n",
       "</tbody>\n",
       "</table>\n"
      ],
      "text/latex": [
       "\\begin{tabular}{r|lllllll}\n",
       " no & dl.milk & sex & weight & ml.suppl & mat.weight & mat.height\\\\\n",
       "\\hline\n",
       "\t  1    & 8.42  & boy   & 5.002 & 250   & 65    & 173  \\\\\n",
       "\t  4    & 8.44  & boy   & 5.128 &   0   & 48    & 158  \\\\\n",
       "\t  5    & 8.41  & boy   & 5.445 &  40   & 62    & 160  \\\\\n",
       "\t 10    & 9.65  & boy   & 5.106 &  60   & 55    & 162  \\\\\n",
       "\t 12    & 6.44  & boy   & 5.196 & 240   & 58    & 170  \\\\\n",
       "\t 16    & 6.29  & boy   & 5.526 &   0   & 56    & 153  \\\\\n",
       "\\end{tabular}\n"
      ],
      "text/markdown": [
       "\n",
       "| no | dl.milk | sex | weight | ml.suppl | mat.weight | mat.height |\n",
       "|---|---|---|---|---|---|---|\n",
       "|  1    | 8.42  | boy   | 5.002 | 250   | 65    | 173   |\n",
       "|  4    | 8.44  | boy   | 5.128 |   0   | 48    | 158   |\n",
       "|  5    | 8.41  | boy   | 5.445 |  40   | 62    | 160   |\n",
       "| 10    | 9.65  | boy   | 5.106 |  60   | 55    | 162   |\n",
       "| 12    | 6.44  | boy   | 5.196 | 240   | 58    | 170   |\n",
       "| 16    | 6.29  | boy   | 5.526 |   0   | 56    | 153   |\n",
       "\n"
      ],
      "text/plain": [
       "  no dl.milk sex weight ml.suppl mat.weight mat.height\n",
       "1  1 8.42    boy 5.002  250      65         173       \n",
       "2  4 8.44    boy 5.128    0      48         158       \n",
       "3  5 8.41    boy 5.445   40      62         160       \n",
       "4 10 9.65    boy 5.106   60      55         162       \n",
       "5 12 6.44    boy 5.196  240      58         170       \n",
       "6 16 6.29    boy 5.526    0      56         153       "
      ]
     },
     "metadata": {},
     "output_type": "display_data"
    }
   ],
   "source": [
    "head(kfm)\n",
    "\n",
    "# jak załadujemy paczkę to od razu dane kfm są przypisane do zmiennej 'kfm'"
   ]
  },
  {
   "cell_type": "markdown",
   "id": "5773f9e6",
   "metadata": {},
   "source": [
    "Zamiana zmiennej kateogrycznej (sex) z character (boy, girl) na liczbową (1,2). 1 to boy, 2 to girl."
   ]
  },
  {
   "cell_type": "code",
   "execution_count": 3,
   "id": "220a9abf",
   "metadata": {},
   "outputs": [
    {
     "data": {
      "text/html": [
       "<table>\n",
       "<thead><tr><th scope=col>no</th><th scope=col>dl.milk</th><th scope=col>sex</th><th scope=col>weight</th><th scope=col>ml.suppl</th><th scope=col>mat.weight</th><th scope=col>mat.height</th><th scope=col>sex_recode</th></tr></thead>\n",
       "<tbody>\n",
       "\t<tr><td> 1   </td><td>8.42 </td><td>boy  </td><td>5.002</td><td>250  </td><td>65   </td><td>173  </td><td>1    </td></tr>\n",
       "\t<tr><td> 4   </td><td>8.44 </td><td>boy  </td><td>5.128</td><td>  0  </td><td>48   </td><td>158  </td><td>1    </td></tr>\n",
       "\t<tr><td> 5   </td><td>8.41 </td><td>boy  </td><td>5.445</td><td> 40  </td><td>62   </td><td>160  </td><td>1    </td></tr>\n",
       "\t<tr><td>10   </td><td>9.65 </td><td>boy  </td><td>5.106</td><td> 60  </td><td>55   </td><td>162  </td><td>1    </td></tr>\n",
       "\t<tr><td>12   </td><td>6.44 </td><td>boy  </td><td>5.196</td><td>240  </td><td>58   </td><td>170  </td><td>1    </td></tr>\n",
       "\t<tr><td>16   </td><td>6.29 </td><td>boy  </td><td>5.526</td><td>  0  </td><td>56   </td><td>153  </td><td>1    </td></tr>\n",
       "</tbody>\n",
       "</table>\n"
      ],
      "text/latex": [
       "\\begin{tabular}{r|llllllll}\n",
       " no & dl.milk & sex & weight & ml.suppl & mat.weight & mat.height & sex\\_recode\\\\\n",
       "\\hline\n",
       "\t  1    & 8.42  & boy   & 5.002 & 250   & 65    & 173   & 1    \\\\\n",
       "\t  4    & 8.44  & boy   & 5.128 &   0   & 48    & 158   & 1    \\\\\n",
       "\t  5    & 8.41  & boy   & 5.445 &  40   & 62    & 160   & 1    \\\\\n",
       "\t 10    & 9.65  & boy   & 5.106 &  60   & 55    & 162   & 1    \\\\\n",
       "\t 12    & 6.44  & boy   & 5.196 & 240   & 58    & 170   & 1    \\\\\n",
       "\t 16    & 6.29  & boy   & 5.526 &   0   & 56    & 153   & 1    \\\\\n",
       "\\end{tabular}\n"
      ],
      "text/markdown": [
       "\n",
       "| no | dl.milk | sex | weight | ml.suppl | mat.weight | mat.height | sex_recode |\n",
       "|---|---|---|---|---|---|---|---|\n",
       "|  1    | 8.42  | boy   | 5.002 | 250   | 65    | 173   | 1     |\n",
       "|  4    | 8.44  | boy   | 5.128 |   0   | 48    | 158   | 1     |\n",
       "|  5    | 8.41  | boy   | 5.445 |  40   | 62    | 160   | 1     |\n",
       "| 10    | 9.65  | boy   | 5.106 |  60   | 55    | 162   | 1     |\n",
       "| 12    | 6.44  | boy   | 5.196 | 240   | 58    | 170   | 1     |\n",
       "| 16    | 6.29  | boy   | 5.526 |   0   | 56    | 153   | 1     |\n",
       "\n"
      ],
      "text/plain": [
       "  no dl.milk sex weight ml.suppl mat.weight mat.height sex_recode\n",
       "1  1 8.42    boy 5.002  250      65         173        1         \n",
       "2  4 8.44    boy 5.128    0      48         158        1         \n",
       "3  5 8.41    boy 5.445   40      62         160        1         \n",
       "4 10 9.65    boy 5.106   60      55         162        1         \n",
       "5 12 6.44    boy 5.196  240      58         170        1         \n",
       "6 16 6.29    boy 5.526    0      56         153        1         "
      ]
     },
     "metadata": {},
     "output_type": "display_data"
    }
   ],
   "source": [
    "kfm$sex_recode <- unclass(kfm$sex)\n",
    "head(kfm)"
   ]
  },
  {
   "cell_type": "markdown",
   "id": "e73bec6f",
   "metadata": {},
   "source": [
    "a) Tworzenie modelu regresji wielokrotnej."
   ]
  },
  {
   "cell_type": "code",
   "execution_count": 4,
   "id": "82f08838",
   "metadata": {},
   "outputs": [],
   "source": [
    "MultiReg <- lm(dl.milk ~ sex+ml.suppl + mat.weight + mat.height, data = kfm)\n",
    "\n",
    "MultiReg_recode <- lm(dl.milk ~ sex_recode + ml.suppl + mat.weight + mat.height, data = kfm)"
   ]
  },
  {
   "cell_type": "code",
   "execution_count": 6,
   "id": "ab9b4fc6",
   "metadata": {},
   "outputs": [
    {
     "data": {
      "text/plain": [
       "\n",
       "Call:\n",
       "lm(formula = dl.milk ~ sex + ml.suppl + mat.weight + mat.height, \n",
       "    data = kfm)\n",
       "\n",
       "Residuals:\n",
       "     Min       1Q   Median       3Q      Max \n",
       "-2.49265 -0.89150  0.07478  0.63320  2.85558 \n",
       "\n",
       "Coefficients:\n",
       "             Estimate Std. Error t value Pr(>|t|)  \n",
       "(Intercept) -9.321172   5.056254  -1.843   0.0718 .\n",
       "sexgirl     -0.756769   0.358408  -2.111   0.0403 *\n",
       "ml.suppl    -0.001612   0.001440  -1.119   0.2691  \n",
       "mat.weight   0.033686   0.026633   1.265   0.2124  \n",
       "mat.height   0.091608   0.034855   2.628   0.0117 *\n",
       "---\n",
       "Signif. codes:  0 '***' 0.001 '**' 0.01 '*' 0.05 '.' 0.1 ' ' 1\n",
       "\n",
       "Residual standard error: 1.257 on 45 degrees of freedom\n",
       "Multiple R-squared:  0.3652,\tAdjusted R-squared:  0.3088 \n",
       "F-statistic: 6.472 on 4 and 45 DF,  p-value: 0.0003343\n"
      ]
     },
     "metadata": {},
     "output_type": "display_data"
    },
    {
     "name": "stdout",
     "output_type": "stream",
     "text": [
      "[1] \"-------------------------------------------------------------------------------------------------------\"\n"
     ]
    },
    {
     "data": {
      "text/plain": [
       "\n",
       "Call:\n",
       "lm(formula = dl.milk ~ sex_recode + ml.suppl + mat.weight + mat.height, \n",
       "    data = kfm)\n",
       "\n",
       "Residuals:\n",
       "     Min       1Q   Median       3Q      Max \n",
       "-2.49265 -0.89150  0.07478  0.63320  2.85558 \n",
       "\n",
       "Coefficients:\n",
       "             Estimate Std. Error t value Pr(>|t|)  \n",
       "(Intercept) -8.564403   5.118139  -1.673   0.1012  \n",
       "sex_recode  -0.756769   0.358408  -2.111   0.0403 *\n",
       "ml.suppl    -0.001612   0.001440  -1.119   0.2691  \n",
       "mat.weight   0.033686   0.026633   1.265   0.2124  \n",
       "mat.height   0.091608   0.034855   2.628   0.0117 *\n",
       "---\n",
       "Signif. codes:  0 '***' 0.001 '**' 0.01 '*' 0.05 '.' 0.1 ' ' 1\n",
       "\n",
       "Residual standard error: 1.257 on 45 degrees of freedom\n",
       "Multiple R-squared:  0.3652,\tAdjusted R-squared:  0.3088 \n",
       "F-statistic: 6.472 on 4 and 45 DF,  p-value: 0.0003343\n"
      ]
     },
     "metadata": {},
     "output_type": "display_data"
    }
   ],
   "source": [
    "summary(MultiReg)\n",
    "print('-------------------------------------------------------------------------------------------------------')\n",
    "summary(MultiReg_recode)"
   ]
  },
  {
   "cell_type": "markdown",
   "id": "07a73bc9",
   "metadata": {},
   "source": [
    "b) Wpływ kategorycznej zmiennej 'sex'"
   ]
  },
  {
   "cell_type": "markdown",
   "id": "a3cc315f",
   "metadata": {},
   "source": [
    "Jak widać, jeśli pozostawimy zmienną sex jako character (boy, girl), to w modelu uzwględniony jest tylko jeden jej poziom (np. sexgilr). Jednak jeśli zmienimy zmienną sex na 1 i 2, to w modelu uzględnione są już obie płci."
   ]
  },
  {
   "cell_type": "markdown",
   "id": "3a70ef6b",
   "metadata": {},
   "source": [
    "c) Przedstaw i zinterpretuj wykres zależności parami oraz macierz korelacji między zmiennymi."
   ]
  },
  {
   "cell_type": "code",
   "execution_count": 8,
   "id": "c86ea170",
   "metadata": {},
   "outputs": [
    {
     "data": {
      "image/png": "[encoded data removed]",
      "text/plain": [
       "plot without title"
      ]
     },
     "metadata": {},
     "output_type": "display_data"
    }
   ],
   "source": [
    "# wykres parami\n",
    "par(mex = 0.5)\n",
    "pairs(kfm, gap = 0, cex.labels = 0.9)"
   ]
  },
  {
   "cell_type": "code",
   "execution_count": 22,
   "id": "b4a5175c",
   "metadata": {},
   "outputs": [
    {
     "data": {
      "text/html": [
       "<table>\n",
       "<thead><tr><th></th><th scope=col>no</th><th scope=col>dl.milk</th><th scope=col>weight</th><th scope=col>ml.suppl</th><th scope=col>mat.weight</th><th scope=col>mat.height</th><th scope=col>sex_recode</th></tr></thead>\n",
       "<tbody>\n",
       "\t<tr><th scope=row>no</th><td> 1.00000000</td><td>-0.18068364</td><td>-0.1649280 </td><td>-0.12978958</td><td>-0.13731160</td><td>-0.02356765</td><td> 0.06193530</td></tr>\n",
       "\t<tr><th scope=row>dl.milk</th><td>-0.18068364</td><td> 1.00000000</td><td> 0.6360448 </td><td>-0.06351955</td><td> 0.43427002</td><td> 0.50504203</td><td>-0.29940126</td></tr>\n",
       "\t<tr><th scope=row>weight</th><td>-0.16492803</td><td> 0.63604482</td><td> 1.0000000 </td><td> 0.12838120</td><td> 0.40817476</td><td> 0.38675714</td><td>-0.22001058</td></tr>\n",
       "\t<tr><th scope=row>ml.suppl</th><td>-0.12978958</td><td>-0.06351955</td><td> 0.1283812 </td><td> 1.00000000</td><td>-0.07887363</td><td> 0.18230263</td><td>-0.07136717</td></tr>\n",
       "\t<tr><th scope=row>mat.weight</th><td>-0.13731160</td><td> 0.43427002</td><td> 0.4081748 </td><td>-0.07887363</td><td> 1.00000000</td><td> 0.56473304</td><td>-0.05303191</td></tr>\n",
       "\t<tr><th scope=row>mat.height</th><td>-0.02356765</td><td> 0.50504203</td><td> 0.3867571 </td><td> 0.18230263</td><td> 0.56473304</td><td> 1.00000000</td><td>-0.11776734</td></tr>\n",
       "\t<tr><th scope=row>sex_recode</th><td> 0.06193530</td><td>-0.29940126</td><td>-0.2200106 </td><td>-0.07136717</td><td>-0.05303191</td><td>-0.11776734</td><td> 1.00000000</td></tr>\n",
       "</tbody>\n",
       "</table>\n"
      ],
      "text/latex": [
       "\\begin{tabular}{r|lllllll}\n",
       "  & no & dl.milk & weight & ml.suppl & mat.weight & mat.height & sex\\_recode\\\\\n",
       "\\hline\n",
       "\tno &  1.00000000 & -0.18068364 & -0.1649280  & -0.12978958 & -0.13731160 & -0.02356765 &  0.06193530\\\\\n",
       "\tdl.milk & -0.18068364 &  1.00000000 &  0.6360448  & -0.06351955 &  0.43427002 &  0.50504203 & -0.29940126\\\\\n",
       "\tweight & -0.16492803 &  0.63604482 &  1.0000000  &  0.12838120 &  0.40817476 &  0.38675714 & -0.22001058\\\\\n",
       "\tml.suppl & -0.12978958 & -0.06351955 &  0.1283812  &  1.00000000 & -0.07887363 &  0.18230263 & -0.07136717\\\\\n",
       "\tmat.weight & -0.13731160 &  0.43427002 &  0.4081748  & -0.07887363 &  1.00000000 &  0.56473304 & -0.05303191\\\\\n",
       "\tmat.height & -0.02356765 &  0.50504203 &  0.3867571  &  0.18230263 &  0.56473304 &  1.00000000 & -0.11776734\\\\\n",
       "\tsex\\_recode &  0.06193530 & -0.29940126 & -0.2200106  & -0.07136717 & -0.05303191 & -0.11776734 &  1.00000000\\\\\n",
       "\\end{tabular}\n"
      ],
      "text/markdown": [
       "\n",
       "| <!--/--> | no | dl.milk | weight | ml.suppl | mat.weight | mat.height | sex_recode |\n",
       "|---|---|---|---|---|---|---|---|\n",
       "| no |  1.00000000 | -0.18068364 | -0.1649280  | -0.12978958 | -0.13731160 | -0.02356765 |  0.06193530 |\n",
       "| dl.milk | -0.18068364 |  1.00000000 |  0.6360448  | -0.06351955 |  0.43427002 |  0.50504203 | -0.29940126 |\n",
       "| weight | -0.16492803 |  0.63604482 |  1.0000000  |  0.12838120 |  0.40817476 |  0.38675714 | -0.22001058 |\n",
       "| ml.suppl | -0.12978958 | -0.06351955 |  0.1283812  |  1.00000000 | -0.07887363 |  0.18230263 | -0.07136717 |\n",
       "| mat.weight | -0.13731160 |  0.43427002 |  0.4081748  | -0.07887363 |  1.00000000 |  0.56473304 | -0.05303191 |\n",
       "| mat.height | -0.02356765 |  0.50504203 |  0.3867571  |  0.18230263 |  0.56473304 |  1.00000000 | -0.11776734 |\n",
       "| sex_recode |  0.06193530 | -0.29940126 | -0.2200106  | -0.07136717 | -0.05303191 | -0.11776734 |  1.00000000 |\n",
       "\n"
      ],
      "text/plain": [
       "           no          dl.milk     weight     ml.suppl    mat.weight \n",
       "no          1.00000000 -0.18068364 -0.1649280 -0.12978958 -0.13731160\n",
       "dl.milk    -0.18068364  1.00000000  0.6360448 -0.06351955  0.43427002\n",
       "weight     -0.16492803  0.63604482  1.0000000  0.12838120  0.40817476\n",
       "ml.suppl   -0.12978958 -0.06351955  0.1283812  1.00000000 -0.07887363\n",
       "mat.weight -0.13731160  0.43427002  0.4081748 -0.07887363  1.00000000\n",
       "mat.height -0.02356765  0.50504203  0.3867571  0.18230263  0.56473304\n",
       "sex_recode  0.06193530 -0.29940126 -0.2200106 -0.07136717 -0.05303191\n",
       "           mat.height  sex_recode \n",
       "no         -0.02356765  0.06193530\n",
       "dl.milk     0.50504203 -0.29940126\n",
       "weight      0.38675714 -0.22001058\n",
       "ml.suppl    0.18230263 -0.07136717\n",
       "mat.weight  0.56473304 -0.05303191\n",
       "mat.height  1.00000000 -0.11776734\n",
       "sex_recode -0.11776734  1.00000000"
      ]
     },
     "metadata": {},
     "output_type": "display_data"
    }
   ],
   "source": [
    "# macierz korelacji\n",
    "kfm2 <- subset(kfm, select = -c(sex))\n",
    "cor(kfm2, method = 'pearson')\n",
    "\n",
    "# zastosowana korelacja Pearsona, ponieważ zakładamy, że dane pochodzą z rozkładu normalnego\n",
    "# sprawdzamy siłę korelacji między zmiennymi\n",
    "# można to po cześci interpretować podobnie jak R^2"
   ]
  },
  {
   "cell_type": "markdown",
   "id": "4b1e20ee",
   "metadata": {},
   "source": [
    "(d) Przyjmując poziom istotności równy 0.05 dokonaj krokowej procedury wyboru modelu startując z modelu zawierającego wszystkie zmienne i\n",
    "eliminując zmienne nieistotne o największej p-wartości. Napisz i zinterpretuj\n",
    "otrzymany końcowy model."
   ]
  },
  {
   "cell_type": "code",
   "execution_count": 9,
   "id": "bdd415e0",
   "metadata": {},
   "outputs": [],
   "source": [
    "# startujemy od pełnego modelu i zchodzimy do modelu optymalnego"
   ]
  },
  {
   "cell_type": "code",
   "execution_count": 13,
   "id": "4f78dd93",
   "metadata": {},
   "outputs": [
    {
     "data": {
      "text/plain": [
       "\n",
       "Call:\n",
       "lm(formula = dl.milk ~ sex_recode + weight + ml.suppl + mat.weight + \n",
       "    mat.height, data = kfm)\n",
       "\n",
       "Residuals:\n",
       "     Min       1Q   Median       3Q      Max \n",
       "-1.74201 -0.81173 -0.00926  0.78326  2.52646 \n",
       "\n",
       "Coefficients:\n",
       "              Estimate Std. Error t value Pr(>|t|)    \n",
       "(Intercept) -11.182307   4.422334  -2.529 0.015114 *  \n",
       "sex_recode   -0.499532   0.312672  -1.598 0.117284    \n",
       "weight        1.349124   0.322450   4.184 0.000135 ***\n",
       "ml.suppl     -0.002233   0.001241  -1.799 0.078829 .  \n",
       "mat.weight    0.006212   0.023708   0.262 0.794535    \n",
       "mat.height    0.072278   0.030169   2.396 0.020906 *  \n",
       "---\n",
       "Signif. codes:  0 '***' 0.001 '**' 0.01 '*' 0.05 '.' 0.1 ' ' 1\n",
       "\n",
       "Residual standard error: 1.075 on 44 degrees of freedom\n",
       "Multiple R-squared:  0.5459,\tAdjusted R-squared:  0.4943 \n",
       "F-statistic: 10.58 on 5 and 44 DF,  p-value: 1.03e-06\n"
      ]
     },
     "metadata": {},
     "output_type": "display_data"
    },
    {
     "name": "stdout",
     "output_type": "stream",
     "text": [
      "[1] \"----------------------------------------------------------------------------------------------------\"\n",
      "[1] \"Rozważamy, wszystkie zmienne. Czyli każda może zostac wyeliminowana na bazie swojego p-value\"\n",
      "[1] \"pozbywamy się zmiennej mat.weight, ponieważ ma najwyższe p-value\"\n"
     ]
    }
   ],
   "source": [
    "model1 <- lm(dl.milk ~ sex_recode + weight + ml.suppl + mat.weight + mat.height, data = kfm)\n",
    "summary(model1)\n",
    "\n",
    "# nie sotsujemy notacji w '.', ponieważ w kfm mamy zarówno zmienną 'sex' jak i 'sex_recode'\n",
    "\n",
    "print('----------------------------------------------------------------------------------------------------')\n",
    "print('Rozważamy, wszystkie zmienne. Czyli każda może zostac wyeliminowana na bazie swojego p-value')\n",
    "print('pozbywamy się zmiennej mat.weight, ponieważ ma najwyższe p-value')"
   ]
  },
  {
   "cell_type": "code",
   "execution_count": 15,
   "id": "cc526aa3",
   "metadata": {},
   "outputs": [
    {
     "data": {
      "text/plain": [
       "\n",
       "Call:\n",
       "lm(formula = dl.milk ~ sex_recode + weight + ml.suppl + mat.height, \n",
       "    data = kfm)\n",
       "\n",
       "Residuals:\n",
       "     Min       1Q   Median       3Q      Max \n",
       "-1.77312 -0.81196 -0.00683  0.76988  2.52240 \n",
       "\n",
       "Coefficients:\n",
       "              Estimate Std. Error t value Pr(>|t|)    \n",
       "(Intercept) -11.617897   4.055322  -2.865  0.00632 ** \n",
       "sex_recode   -0.494675   0.308875  -1.602  0.11626    \n",
       "weight        1.372524   0.306612   4.476 5.14e-05 ***\n",
       "ml.suppl     -0.002313   0.001190  -1.943  0.05824 .  \n",
       "mat.height    0.076363   0.025560   2.988  0.00454 ** \n",
       "---\n",
       "Signif. codes:  0 '***' 0.001 '**' 0.01 '*' 0.05 '.' 0.1 ' ' 1\n",
       "\n",
       "Residual standard error: 1.064 on 45 degrees of freedom\n",
       "Multiple R-squared:  0.5452,\tAdjusted R-squared:  0.5047 \n",
       "F-statistic: 13.48 on 4 and 45 DF,  p-value: 2.658e-07\n"
      ]
     },
     "metadata": {},
     "output_type": "display_data"
    },
    {
     "name": "stdout",
     "output_type": "stream",
     "text": [
      "[1] \"-------------------------------------------------------------------------------------------------------\"\n",
      "[1] \"Pozbywamy się zmiennej sex_recode, ponieważ ma najwyższe p-value.\"\n"
     ]
    }
   ],
   "source": [
    "model2 <- lm(dl.milk ~ sex_recode + weight + ml.suppl + mat.height, data = kfm)\n",
    "summary(model2)\n",
    "print('-------------------------------------------------------------------------------------------------------')\n",
    "print('Pozbywamy się zmiennej sex_recode, ponieważ ma najwyższe p-value.')"
   ]
  },
  {
   "cell_type": "code",
   "execution_count": 17,
   "id": "f99e05a8",
   "metadata": {},
   "outputs": [
    {
     "data": {
      "text/plain": [
       "\n",
       "Call:\n",
       "lm(formula = dl.milk ~ weight + ml.suppl + mat.height, data = kfm)\n",
       "\n",
       "Residuals:\n",
       "     Min       1Q   Median       3Q      Max \n",
       "-2.06540 -0.74758 -0.02408  0.67488  2.79882 \n",
       "\n",
       "Coefficients:\n",
       "              Estimate Std. Error t value Pr(>|t|)    \n",
       "(Intercept) -13.064926   4.020073  -3.250  0.00216 ** \n",
       "weight        1.464781   0.306231   4.783 1.81e-05 ***\n",
       "ml.suppl     -0.002237   0.001209  -1.850  0.07074 .  \n",
       "mat.height    0.077600   0.025979   2.987  0.00451 ** \n",
       "---\n",
       "Signif. codes:  0 '***' 0.001 '**' 0.01 '*' 0.05 '.' 0.1 ' ' 1\n",
       "\n",
       "Residual standard error: 1.082 on 46 degrees of freedom\n",
       "Multiple R-squared:  0.5192,\tAdjusted R-squared:  0.4879 \n",
       "F-statistic: 16.56 on 3 and 46 DF,  p-value: 1.953e-07\n"
      ]
     },
     "metadata": {},
     "output_type": "display_data"
    },
    {
     "name": "stdout",
     "output_type": "stream",
     "text": [
      "[1] \"-------------------------------------------------------------------------------------------------------\"\n",
      "[1] \"Pozbywamy się zmiennej ml.suppl, ponieważ ma najwyższe p-value.\"\n"
     ]
    }
   ],
   "source": [
    "model3 <- lm(dl.milk ~ weight + ml.suppl + mat.height, data = kfm)\n",
    "summary(model3)\n",
    "print('-------------------------------------------------------------------------------------------------------')\n",
    "print('Pozbywamy się zmiennej ml.suppl, ponieważ ma najwyższe p-value.')"
   ]
  },
  {
   "cell_type": "code",
   "execution_count": 19,
   "id": "281319d9",
   "metadata": {},
   "outputs": [
    {
     "data": {
      "text/plain": [
       "\n",
       "Call:\n",
       "lm(formula = dl.milk ~ weight + mat.height, data = kfm)\n",
       "\n",
       "Residuals:\n",
       "     Min       1Q   Median       3Q      Max \n",
       "-2.19598 -0.82149  0.01822  0.75582  2.83375 \n",
       "\n",
       "Coefficients:\n",
       "             Estimate Std. Error t value Pr(>|t|)    \n",
       "(Intercept) -11.92014    4.07325  -2.926  0.00527 ** \n",
       "weight        1.42862    0.31338   4.559 3.67e-05 ***\n",
       "mat.height    0.07063    0.02636   2.680  0.01013 *  \n",
       "---\n",
       "Signif. codes:  0 '***' 0.001 '**' 0.01 '*' 0.05 '.' 0.1 ' ' 1\n",
       "\n",
       "Residual standard error: 1.109 on 47 degrees of freedom\n",
       "Multiple R-squared:  0.4835,\tAdjusted R-squared:  0.4615 \n",
       "F-statistic:    22 on 2 and 47 DF,  p-value: 1.811e-07\n"
      ]
     },
     "metadata": {},
     "output_type": "display_data"
    },
    {
     "name": "stdout",
     "output_type": "stream",
     "text": [
      "[1] \"-------------------------------------------------------------------------------------------------------\"\n",
      "[1] \"Mamy wszystkie zmienne istotne w naszym modelu.\"\n"
     ]
    }
   ],
   "source": [
    "model4 <- lm(dl.milk ~ weight + mat.height, data = kfm)\n",
    "summary(model4)\n",
    "print('-------------------------------------------------------------------------------------------------------')\n",
    "print('Mamy wszystkie zmienne istotne w naszym modelu.')"
   ]
  },
  {
   "cell_type": "markdown",
   "id": "0cb8fcc5",
   "metadata": {},
   "source": [
    "Interpretacja końcowego modelu. Waga dziecka oraz wzrost matki wpływają istotnie na ilość spożywanego mleka. Równanie prostej regresji jest następujące y = 1.43(weight) + 0.07(mat.height). Jeśli mat.height jest stałe i jeśli weight wzrasta o 1, to dl.milk wzrasta o 1.43. Jeśli weight jest stałe i mat.height wzrasta o 1, to dl.milk wzrasta o 0.07. Generalnie model jest słaby, bo Adjusterd R2 wynosi jedynie 0.46."
   ]
  },
  {
   "cell_type": "markdown",
   "id": "818de440",
   "metadata": {},
   "source": [
    "# lista1_zadanie2"
   ]
  },
  {
   "cell_type": "code",
   "execution_count": 2,
   "id": "bf9e9ba6",
   "metadata": {},
   "outputs": [
    {
     "data": {
      "text/html": [
       "<table>\n",
       "<thead><tr><th scope=col>Sepal.Length</th><th scope=col>Sepal.Width</th><th scope=col>Petal.Length</th><th scope=col>Petal.Width</th><th scope=col>Species</th></tr></thead>\n",
       "<tbody>\n",
       "\t<tr><td>5.1   </td><td>3.5   </td><td>1.4   </td><td>0.2   </td><td>setosa</td></tr>\n",
       "\t<tr><td>4.9   </td><td>3.0   </td><td>1.4   </td><td>0.2   </td><td>setosa</td></tr>\n",
       "\t<tr><td>4.7   </td><td>3.2   </td><td>1.3   </td><td>0.2   </td><td>setosa</td></tr>\n",
       "\t<tr><td>4.6   </td><td>3.1   </td><td>1.5   </td><td>0.2   </td><td>setosa</td></tr>\n",
       "\t<tr><td>5.0   </td><td>3.6   </td><td>1.4   </td><td>0.2   </td><td>setosa</td></tr>\n",
       "\t<tr><td>5.4   </td><td>3.9   </td><td>1.7   </td><td>0.4   </td><td>setosa</td></tr>\n",
       "</tbody>\n",
       "</table>\n"
      ],
      "text/latex": [
       "\\begin{tabular}{r|lllll}\n",
       " Sepal.Length & Sepal.Width & Petal.Length & Petal.Width & Species\\\\\n",
       "\\hline\n",
       "\t 5.1    & 3.5    & 1.4    & 0.2    & setosa\\\\\n",
       "\t 4.9    & 3.0    & 1.4    & 0.2    & setosa\\\\\n",
       "\t 4.7    & 3.2    & 1.3    & 0.2    & setosa\\\\\n",
       "\t 4.6    & 3.1    & 1.5    & 0.2    & setosa\\\\\n",
       "\t 5.0    & 3.6    & 1.4    & 0.2    & setosa\\\\\n",
       "\t 5.4    & 3.9    & 1.7    & 0.4    & setosa\\\\\n",
       "\\end{tabular}\n"
      ],
      "text/markdown": [
       "\n",
       "| Sepal.Length | Sepal.Width | Petal.Length | Petal.Width | Species |\n",
       "|---|---|---|---|---|\n",
       "| 5.1    | 3.5    | 1.4    | 0.2    | setosa |\n",
       "| 4.9    | 3.0    | 1.4    | 0.2    | setosa |\n",
       "| 4.7    | 3.2    | 1.3    | 0.2    | setosa |\n",
       "| 4.6    | 3.1    | 1.5    | 0.2    | setosa |\n",
       "| 5.0    | 3.6    | 1.4    | 0.2    | setosa |\n",
       "| 5.4    | 3.9    | 1.7    | 0.4    | setosa |\n",
       "\n"
      ],
      "text/plain": [
       "  Sepal.Length Sepal.Width Petal.Length Petal.Width Species\n",
       "1 5.1          3.5         1.4          0.2         setosa \n",
       "2 4.9          3.0         1.4          0.2         setosa \n",
       "3 4.7          3.2         1.3          0.2         setosa \n",
       "4 4.6          3.1         1.5          0.2         setosa \n",
       "5 5.0          3.6         1.4          0.2         setosa \n",
       "6 5.4          3.9         1.7          0.4         setosa "
      ]
     },
     "metadata": {},
     "output_type": "display_data"
    }
   ],
   "source": [
    "library(datasets)\n",
    "data(iris)\n",
    "head(iris)"
   ]
  },
  {
   "cell_type": "markdown",
   "id": "b6175dcc",
   "metadata": {},
   "source": [
    "(a) Narysuj histogramy rozkładu długości i szerokości kielicha dla trzech\n",
    "analizowanych gatunków."
   ]
  },
  {
   "cell_type": "code",
   "execution_count": 17,
   "id": "7f37d3b0",
   "metadata": {},
   "outputs": [
    {
     "data": {
      "text/html": [
       "<ol class=list-inline>\n",
       "\t<li>setosa</li>\n",
       "\t<li>versicolor</li>\n",
       "\t<li>virginica</li>\n",
       "</ol>\n",
       "\n",
       "<details>\n",
       "\t<summary style=display:list-item;cursor:pointer>\n",
       "\t\t<strong>Levels</strong>:\n",
       "\t</summary>\n",
       "\t<ol class=list-inline>\n",
       "\t\t<li>'setosa'</li>\n",
       "\t\t<li>'versicolor'</li>\n",
       "\t\t<li>'virginica'</li>\n",
       "\t</ol>\n",
       "</details>"
      ],
      "text/latex": [
       "\\begin{enumerate*}\n",
       "\\item setosa\n",
       "\\item versicolor\n",
       "\\item virginica\n",
       "\\end{enumerate*}\n",
       "\n",
       "\\emph{Levels}: \\begin{enumerate*}\n",
       "\\item 'setosa'\n",
       "\\item 'versicolor'\n",
       "\\item 'virginica'\n",
       "\\end{enumerate*}\n"
      ],
      "text/markdown": [
       "1. setosa\n",
       "2. versicolor\n",
       "3. virginica\n",
       "\n",
       "\n",
       "\n",
       "**Levels**: 1. 'setosa'\n",
       "2. 'versicolor'\n",
       "3. 'virginica'\n",
       "\n",
       "\n"
      ],
      "text/plain": [
       "[1] setosa     versicolor virginica \n",
       "Levels: setosa versicolor virginica"
      ]
     },
     "metadata": {},
     "output_type": "display_data"
    },
    {
     "data": {
      "image/png": "[encoded data removed]",
      "text/plain": [
       "Plot with title \"Virginica petal length\""
      ]
     },
     "metadata": {},
     "output_type": "display_data"
    },
    {
     "data": {
      "image/png": "[encoded data removed]",
      "text/plain": [
       "Plot with title \"Virginica petal width\""
      ]
     },
     "metadata": {},
     "output_type": "display_data"
    }
   ],
   "source": [
    "unique(iris$Species)\n",
    "\n",
    "setosa <- iris[iris$Species == 'setosa', ]\n",
    "versicolor <- iris[iris$Species == 'versicolor', ]\n",
    "virginica <- iris[iris$Species == 'virginica', ]\n",
    "\n",
    "par(mfrow = c(1,3))\n",
    "hist(setosa$Petal.Length, main = 'Setosa petal length')\n",
    "hist(versicolor$Petal.Length, main = 'Versicolor petal length')\n",
    "hist(virginica$Petal.Length, main = 'Virginica petal length')\n",
    "hist(setosa$Petal.Width, main = 'Setosa petal width')\n",
    "hist(versicolor$Petal.Width, main = 'Versicolor petal width')\n",
    "hist(virginica$Petal.Width, main = 'Virginica petal width')\n",
    "\n",
    "# za pomocą histogramów sprawdzamy normalność cech"
   ]
  },
  {
   "cell_type": "markdown",
   "id": "2ca8aae2",
   "metadata": {},
   "source": [
    "(b) Przedstaw wykresy korelacji parami dla długości i szerokości kielicha\n",
    "oraz długości i szerokości płatka (dla każdego gatunku osobno). Jakie widzisz\n",
    "zależności?\n"
   ]
  },
  {
   "cell_type": "code",
   "execution_count": 32,
   "id": "4a367cf4",
   "metadata": {},
   "outputs": [
    {
     "data": {
      "image/png": "[encoded data removed]",
      "text/plain": [
       "Plot with title \"Setosa sepal\""
      ]
     },
     "metadata": {},
     "output_type": "display_data"
    },
    {
     "data": {
      "image/png": "[encoded data removed]",
      "text/plain": [
       "Plot with title \"Setosa petal\""
      ]
     },
     "metadata": {},
     "output_type": "display_data"
    },
    {
     "data": {
      "image/png": "[encoded data removed]",
      "text/plain": [
       "Plot with title \"Versicolor sepal\""
      ]
     },
     "metadata": {},
     "output_type": "display_data"
    },
    {
     "data": {
      "image/png": "[encoded data removed]",
      "text/plain": [
       "Plot with title \"Versicolor petal\""
      ]
     },
     "metadata": {},
     "output_type": "display_data"
    },
    {
     "data": {
      "image/png": "[encoded data removed]",
      "text/plain": [
       "Plot with title \"Virginica sepal\""
      ]
     },
     "metadata": {},
     "output_type": "display_data"
    },
    {
     "data": {
      "image/png": "[encoded data removed]",
      "text/plain": [
       "Plot with title \"Virginica petal\""
      ]
     },
     "metadata": {},
     "output_type": "display_data"
    }
   ],
   "source": [
    "plot(setosa$Sepal.Length, setosa$Sepal.Width, main = 'Setosa sepal')\n",
    "plot(setosa$Petal.Length, setosa$Petal.Width, main = 'Setosa petal')\n",
    "\n",
    "plot(versicolor$Sepal.Length, versicolor$Sepal.Width, main = 'Versicolor sepal')\n",
    "plot(versicolor$Petal.Length, versicolor$Petal.Width, main = 'Versicolor petal')\n",
    "\n",
    "plot(virginica$Sepal.Length, virginica$Sepal.Width, main = 'Virginica sepal')\n",
    "plot(virginica$Petal.Length, virginica$Petal.Width, main = 'Virginica petal')\n",
    "\n",
    "# dla każdego gatunku widać dodatnią korelację szerokości z długością, zarówno u kielicha jak i u płatków\n",
    "# czasami ta zależność jest mocniejsza a czasami słabsza"
   ]
  },
  {
   "cell_type": "markdown",
   "id": "58f8c735",
   "metadata": {},
   "source": [
    "(c) Porównaj wartości współczynników korelacji dla długości kielicha i\n",
    "długości płatka. Dla którego z gatunków korelacja ta jest największa? Sprawdź\n",
    "istotność tych współczynników korelacji. Jakie dwie zmienne są najmocniej\n",
    "skorelowane dla poszczególnych gatunków?"
   ]
  },
  {
   "cell_type": "code",
   "execution_count": 41,
   "id": "92def125",
   "metadata": {},
   "outputs": [
    {
     "name": "stdout",
     "output_type": "stream",
     "text": [
      "[1] \"Setosa\"\n"
     ]
    },
    {
     "data": {
      "text/html": [
       "0.267175758868757"
      ],
      "text/latex": [
       "0.267175758868757"
      ],
      "text/markdown": [
       "0.267175758868757"
      ],
      "text/plain": [
       "[1] 0.2671758"
      ]
     },
     "metadata": {},
     "output_type": "display_data"
    },
    {
     "data": {
      "text/html": [
       "0.0606977838011346"
      ],
      "text/latex": [
       "0.0606977838011346"
      ],
      "text/markdown": [
       "0.0606977838011346"
      ],
      "text/plain": [
       "[1] 0.06069778"
      ]
     },
     "metadata": {},
     "output_type": "display_data"
    },
    {
     "name": "stdout",
     "output_type": "stream",
     "text": [
      "[1] \"--------------------------------------------------------------------------------------------------------------\"\n",
      "[1] \"Versicolor\"\n"
     ]
    },
    {
     "data": {
      "text/html": [
       "0.754048958592016"
      ],
      "text/latex": [
       "0.754048958592016"
      ],
      "text/markdown": [
       "0.754048958592016"
      ],
      "text/plain": [
       "[1] 0.754049"
      ]
     },
     "metadata": {},
     "output_type": "display_data"
    },
    {
     "data": {
      "text/html": [
       "2.58618950528093e-10"
      ],
      "text/latex": [
       "2.58618950528093e-10"
      ],
      "text/markdown": [
       "2.58618950528093e-10"
      ],
      "text/plain": [
       "[1] 2.58619e-10"
      ]
     },
     "metadata": {},
     "output_type": "display_data"
    },
    {
     "name": "stdout",
     "output_type": "stream",
     "text": [
      "[1] \"--------------------------------------------------------------------------------------------------------------\"\n",
      "[1] \"Virginica\"\n"
     ]
    },
    {
     "data": {
      "text/html": [
       "0.864224732935576"
      ],
      "text/latex": [
       "0.864224732935576"
      ],
      "text/markdown": [
       "0.864224732935576"
      ],
      "text/plain": [
       "[1] 0.8642247"
      ]
     },
     "metadata": {},
     "output_type": "display_data"
    },
    {
     "data": {
      "text/html": [
       "6.29778575890383e-16"
      ],
      "text/latex": [
       "6.29778575890383e-16"
      ],
      "text/markdown": [
       "6.29778575890383e-16"
      ],
      "text/plain": [
       "[1] 6.297786e-16"
      ]
     },
     "metadata": {},
     "output_type": "display_data"
    },
    {
     "name": "stdout",
     "output_type": "stream",
     "text": [
      "[1] \"--------------------------------------------------------------------------------------------------------------\"\n"
     ]
    }
   ],
   "source": [
    "# stosujemy korelację Pearsona, ponieważ zmienne pochodzą z rozkładu normalnego\n",
    "\n",
    "# test na istotność współczynnika korelacji\n",
    "# H0: współczynnik korelacji nie jest istotnie różny od zera\n",
    "#H1: współczynnik korelacji jest istotnie różny od zera\n",
    "\n",
    "print('Setosa')\n",
    "cor(setosa$Petal.Length, setosa$Sepal.Length, method = 'pearson')\n",
    "cor.test(setosa$Petal.Length, setosa$Sepal.Length, alternative = 'two.sided', method = 'pearson')$p.val\n",
    "print('--------------------------------------------------------------------------------------------------------------')\n",
    "print('Versicolor')\n",
    "cor(versicolor$Petal.Length, versicolor$Sepal.Length, method = 'pearson')\n",
    "cor.test(versicolor$Petal.Length, versicolor$Sepal.Length, alternative = 'two.sided', method = 'pearson')$p.val\n",
    "print('--------------------------------------------------------------------------------------------------------------')\n",
    "print('Virginica')\n",
    "cor(virginica$Petal.Length, virginica$Sepal.Length, method = 'pearson')\n",
    "cor.test(virginica$Petal.Length, virginica$Sepal.Length, alternative = 'two.sided', method = 'pearson')$p.val\n",
    "print('--------------------------------------------------------------------------------------------------------------')\n",
    "\n",
    "\n",
    "\n",
    "# najsilniejsza jest korelacja między długością kielicha i płatka w przypadku gatunku Virginica\n",
    "# liczbowo współczynnik korelacji jest co do modułu największy\n",
    "# potwierdza to także najniższe p-value z testu na istotność współczynnika korelacji"
   ]
  },
  {
   "cell_type": "markdown",
   "id": "5e2c2a2d",
   "metadata": {},
   "source": [
    "(d) Dla gatunku setosa przeanalizuj i zinterpretuj wpływ zmiennych objaśniających Petal.Width (szerokość płatka), Sepal.Length (długość\n",
    "kielicha), Sepal.Width (szerokość kielicha) na zmienną Petal.Length\n",
    "(długość płatka) przy użyciu modelu regresji wielokrotnej. Przyjmując\n",
    "poziom istotności równy 0.05 dokonaj krokowej procedury wyboru modelu\n",
    "eliminując zmienne nieistotne o największej p-wartości. Napisz i zinterpretuj\n",
    "otrzymany końcowy model.\n",
    "Wskazówka: Aby wyodrębnić gatunki można użyć procedury:\n",
    "iris.versicolor <- iris[iris$Species==\"versicolor\",1:4]\n",
    "iris.setosa <- iris[iris$Species==\"setosa\",1:4]\n",
    "iris.virginica <- iris[iris$Species==\"virginica\",1:4]"
   ]
  },
  {
   "cell_type": "code",
   "execution_count": 42,
   "id": "03819398",
   "metadata": {},
   "outputs": [],
   "source": [
    "# startujemy od pęłnego modelu i zchodzimy do najbardziej optymalnego"
   ]
  },
  {
   "cell_type": "code",
   "execution_count": 44,
   "id": "a247883a",
   "metadata": {},
   "outputs": [
    {
     "data": {
      "text/plain": [
       "\n",
       "Call:\n",
       "lm(formula = Petal.Length ~ Petal.Width + Sepal.Length + Sepal.Width, \n",
       "    data = setosa)\n",
       "\n",
       "Residuals:\n",
       "     Min       1Q   Median       3Q      Max \n",
       "-0.38868 -0.07905  0.00632  0.10095  0.48238 \n",
       "\n",
       "Coefficients:\n",
       "             Estimate Std. Error t value Pr(>|t|)  \n",
       "(Intercept)   0.86547    0.34331   2.521   0.0152 *\n",
       "Petal.Width   0.46253    0.23410   1.976   0.0542 .\n",
       "Sepal.Length  0.11606    0.10162   1.142   0.2594  \n",
       "Sepal.Width  -0.02865    0.09334  -0.307   0.7602  \n",
       "---\n",
       "Signif. codes:  0 '***' 0.001 '**' 0.01 '*' 0.05 '.' 0.1 ' ' 1\n",
       "\n",
       "Residual standard error: 0.1657 on 46 degrees of freedom\n",
       "Multiple R-squared:  0.1449,\tAdjusted R-squared:  0.08914 \n",
       "F-statistic: 2.598 on 3 and 46 DF,  p-value: 0.06356\n"
      ]
     },
     "metadata": {},
     "output_type": "display_data"
    },
    {
     "name": "stdout",
     "output_type": "stream",
     "text": [
      "[1] \"Pozbywamy się zmiennej Sepal.Width, ponieważ ma najwyższe p-value.\"\n"
     ]
    }
   ],
   "source": [
    "model1 <- lm(Petal.Length ~ Petal.Width + Sepal.Length + Sepal.Width, data = setosa)\n",
    "summary(model1)\n",
    "\n",
    "print('Pozbywamy się zmiennej Sepal.Width, ponieważ ma najwyższe p-value.')"
   ]
  },
  {
   "cell_type": "code",
   "execution_count": 46,
   "id": "be539db5",
   "metadata": {},
   "outputs": [
    {
     "data": {
      "text/plain": [
       "\n",
       "Call:\n",
       "lm(formula = Petal.Length ~ Petal.Width + Sepal.Length, data = setosa)\n",
       "\n",
       "Residuals:\n",
       "     Min       1Q   Median       3Q      Max \n",
       "-0.40293 -0.08425  0.00073  0.09455  0.47839 \n",
       "\n",
       "Coefficients:\n",
       "             Estimate Std. Error t value Pr(>|t|)  \n",
       "(Intercept)   0.88128    0.33614   2.622   0.0117 *\n",
       "Petal.Width   0.45959    0.23164   1.984   0.0531 .\n",
       "Sepal.Length  0.09342    0.06925   1.349   0.1838  \n",
       "---\n",
       "Signif. codes:  0 '***' 0.001 '**' 0.01 '*' 0.05 '.' 0.1 ' ' 1\n",
       "\n",
       "Residual standard error: 0.1641 on 47 degrees of freedom\n",
       "Multiple R-squared:  0.1432,\tAdjusted R-squared:  0.1067 \n",
       "F-statistic: 3.926 on 2 and 47 DF,  p-value: 0.0265\n"
      ]
     },
     "metadata": {},
     "output_type": "display_data"
    },
    {
     "name": "stdout",
     "output_type": "stream",
     "text": [
      "[1] \"Pozbywamy się zmiennej Sepal.Length, ponieważ ma najwyższe p-value.\"\n"
     ]
    }
   ],
   "source": [
    "model2 <- lm(Petal.Length ~ Petal.Width + Sepal.Length, data = setosa)\n",
    "summary(model2)\n",
    "\n",
    "print('Pozbywamy się zmiennej Sepal.Length, ponieważ ma najwyższe p-value.')"
   ]
  },
  {
   "cell_type": "code",
   "execution_count": 48,
   "id": "dea7df5a",
   "metadata": {},
   "outputs": [
    {
     "data": {
      "text/plain": [
       "\n",
       "Call:\n",
       "lm(formula = Petal.Length ~ Petal.Width, data = setosa)\n",
       "\n",
       "Residuals:\n",
       "     Min       1Q   Median       3Q      Max \n",
       "-0.43686 -0.09151 -0.03686  0.09018  0.46314 \n",
       "\n",
       "Coefficients:\n",
       "            Estimate Std. Error t value Pr(>|t|)    \n",
       "(Intercept)  1.32756    0.05996  22.141   <2e-16 ***\n",
       "Petal.Width  0.54649    0.22439   2.435   0.0186 *  \n",
       "---\n",
       "Signif. codes:  0 '***' 0.001 '**' 0.01 '*' 0.05 '.' 0.1 ' ' 1\n",
       "\n",
       "Residual standard error: 0.1655 on 48 degrees of freedom\n",
       "Multiple R-squared:   0.11,\tAdjusted R-squared:  0.09144 \n",
       "F-statistic: 5.931 on 1 and 48 DF,  p-value: 0.01864\n"
      ]
     },
     "metadata": {},
     "output_type": "display_data"
    }
   ],
   "source": [
    "model3 <- lm(Petal.Length ~ Petal.Width, data = setosa)\n",
    "summary(model3)\n",
    "\n",
    "# teraz mamy optymalny model, ponieważ wszystkie zmienne niezależne istotnie wpływają na zmienną zależną\n",
    "# Petal.Width i Petal.Length są dodatnio skorelowane\n",
    "# jeśli Petal.Width wzrośnie o jeden, to Petal.Length wzrośnie o 0.55"
   ]
  },
  {
   "cell_type": "code",
   "execution_count": null,
   "id": "921c3cc9",
   "metadata": {},
   "outputs": [],
   "source": []
  }
 ],
 "metadata": {
  "kernelspec": {
   "display_name": "R",
   "language": "R",
   "name": "ir"
  },
  "language_info": {
   "codemirror_mode": "r",
   "file_extension": ".r",
   "mimetype": "text/x-r-source",
   "name": "R",
   "pygments_lexer": "r",
   "version": "3.6.1"
  }
 },
 "nbformat": 4,
 "nbformat_minor": 5
}
