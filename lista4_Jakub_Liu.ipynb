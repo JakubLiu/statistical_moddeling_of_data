{
 "cells": [
  {
   "cell_type": "markdown",
   "id": "048e692c",
   "metadata": {},
   "source": [
    "# Zadanie 7"
   ]
  },
  {
   "cell_type": "markdown",
   "id": "80a29204",
   "metadata": {},
   "source": [
    "Dokonaj podziału obserwacji na podzbiór uczący (75% obserwacji, wybranych\n",
    "w sposób losowy) oraz zbiór testowy (pozostałe)."
   ]
  },
  {
   "cell_type": "code",
   "execution_count": 1,
   "id": "d363088f",
   "metadata": {},
   "outputs": [
    {
     "name": "stderr",
     "output_type": "stream",
     "text": [
      "Warning message:\n",
      "\"package 'data.table' was built under R version 3.6.3\"Warning message in fread(\"http://theta.edu.pl/wp-content/uploads/2018/03/urine.csv\"):\n",
      "\"Found and resolved improper quoting in first 100 rows. If the fields are not quoted (e.g. field separator does not appear within any field), try quote=\"\" to avoid this warning.\""
     ]
    },
    {
     "data": {
      "text/html": [
       "79"
      ],
      "text/latex": [
       "79"
      ],
      "text/markdown": [
       "79"
      ],
      "text/plain": [
       "[1] 79"
      ]
     },
     "metadata": {},
     "output_type": "display_data"
    }
   ],
   "source": [
    "library(data.table)\n",
    "urine <- fread('http://theta.edu.pl/wp-content/uploads/2018/03/urine.csv')\n",
    "#head(urine)\n",
    "\n",
    "colnames(urine) <- c('col1', 'crystals', 'gravity', 'pH', 'osmo', 'cond', 'urea', 'calc')\n",
    "\n",
    "nrow(urine)"
   ]
  },
  {
   "cell_type": "markdown",
   "id": "1c48d801",
   "metadata": {},
   "source": [
    " Dokonaj podziału obserwacji na podzbiór uczący (pierwsze 324 obserwacje)\n",
    "oraz zbiór testowy (pozostałe).\n"
   ]
  },
  {
   "cell_type": "code",
   "execution_count": 2,
   "id": "a42b3237",
   "metadata": {},
   "outputs": [],
   "source": [
    "# 75% uczący, 25% testowy\n",
    "\n",
    "sample <- sample(c(TRUE, FALSE), nrow(urine), replace=TRUE, prob=c(0.75,0.25))\n",
    "urine_train  <- urine[sample, ]\n",
    "urine_test   <- urine[!sample, ]\n",
    "#head(urine_train)\n",
    "#head(urine_test)"
   ]
  },
  {
   "cell_type": "markdown",
   "id": "345a6ad1",
   "metadata": {},
   "source": [
    "ii) Dopasuj model regresji logistycznej bazując na podzbiorze uczącym, przyjmując za zmienną objaśnianą crystals"
   ]
  },
  {
   "cell_type": "code",
   "execution_count": 3,
   "id": "361e066c",
   "metadata": {},
   "outputs": [
    {
     "data": {
      "text/plain": [
       "\n",
       "Call:\n",
       "glm(formula = crystals ~ . - col1, family = binomial(), data = urine_train)\n",
       "\n",
       "Deviance Residuals: \n",
       "    Min       1Q   Median       3Q      Max  \n",
       "-1.5711  -0.6429  -0.2957   0.4242   2.6824  \n",
       "\n",
       "Coefficients:\n",
       "             Estimate Std. Error z value Pr(>|z|)   \n",
       "(Intercept) -92.19268  197.19905  -0.468  0.64013   \n",
       "gravity      90.06198  196.24437   0.459  0.64629   \n",
       "pH           -0.18388    0.62497  -0.294  0.76859   \n",
       "osmo          0.03061    0.02382   1.285  0.19885   \n",
       "cond         -0.53000    0.33680  -1.574  0.11557   \n",
       "urea         -0.03569    0.02191  -1.629  0.10331   \n",
       "calc          0.84099    0.30619   2.747  0.00602 **\n",
       "---\n",
       "Signif. codes:  0 '***' 0.001 '**' 0.01 '*' 0.05 '.' 0.1 ' ' 1\n",
       "\n",
       "(Dispersion parameter for binomial family taken to be 1)\n",
       "\n",
       "    Null deviance: 73.001  on 52  degrees of freedom\n",
       "Residual deviance: 41.629  on 46  degrees of freedom\n",
       "  (2 observations deleted due to missingness)\n",
       "AIC: 55.629\n",
       "\n",
       "Number of Fisher Scoring iterations: 6\n"
      ]
     },
     "metadata": {},
     "output_type": "display_data"
    }
   ],
   "source": [
    "# usuwam zmienną 'col1', ponieważ jest to numer wiersza\n",
    "\n",
    "model_glm = glm(crystals ~ . -col1, data = urine_train, family = binomial())\n",
    "summary(model_glm)"
   ]
  },
  {
   "cell_type": "code",
   "execution_count": 4,
   "id": "6210f743",
   "metadata": {},
   "outputs": [
    {
     "data": {
      "text/plain": [
       "\n",
       "Call:\n",
       "glm(formula = crystals ~ . - col1 - pH - osmo - cond - calc, \n",
       "    family = binomial(), data = urine_train)\n",
       "\n",
       "Deviance Residuals: \n",
       "    Min       1Q   Median       3Q      Max  \n",
       "-1.5065  -1.0279  -0.5334   0.9399   1.8387  \n",
       "\n",
       "Coefficients:\n",
       "              Estimate Std. Error z value Pr(>|z|)  \n",
       "(Intercept) -185.30949   89.15487  -2.079   0.0377 *\n",
       "gravity      182.51099   88.51110   2.062   0.0392 *\n",
       "urea          -0.00273    0.00447  -0.611   0.5414  \n",
       "---\n",
       "Signif. codes:  0 '***' 0.001 '**' 0.01 '*' 0.05 '.' 0.1 ' ' 1\n",
       "\n",
       "(Dispersion parameter for binomial family taken to be 1)\n",
       "\n",
       "    Null deviance: 73.001  on 52  degrees of freedom\n",
       "Residual deviance: 62.437  on 50  degrees of freedom\n",
       "  (2 observations deleted due to missingness)\n",
       "AIC: 68.437\n",
       "\n",
       "Number of Fisher Scoring iterations: 4\n"
      ]
     },
     "metadata": {},
     "output_type": "display_data"
    }
   ],
   "source": [
    "model_glm2 = glm(crystals ~ . -col1 -pH -osmo -cond -calc, data = urine_train, family = binomial())\n",
    "summary(model_glm2)"
   ]
  },
  {
   "cell_type": "code",
   "execution_count": 5,
   "id": "cfd04436",
   "metadata": {},
   "outputs": [
    {
     "data": {
      "text/plain": [
       "\n",
       "Call:\n",
       "glm(formula = crystals ~ . - col1 - pH - osmo - cond - calc - \n",
       "    urea, family = binomial(), data = urine_train)\n",
       "\n",
       "Deviance Residuals: \n",
       "    Min       1Q   Median       3Q      Max  \n",
       "-1.5092  -1.0253  -0.5606   0.9306   1.7781  \n",
       "\n",
       "Coefficients:\n",
       "            Estimate Std. Error z value Pr(>|z|)   \n",
       "(Intercept)  -142.97      51.48  -2.778  0.00548 **\n",
       "gravity       140.22      50.54   2.774  0.00553 **\n",
       "---\n",
       "Signif. codes:  0 '***' 0.001 '**' 0.01 '*' 0.05 '.' 0.1 ' ' 1\n",
       "\n",
       "(Dispersion parameter for binomial family taken to be 1)\n",
       "\n",
       "    Null deviance: 73.001  on 52  degrees of freedom\n",
       "Residual deviance: 62.848  on 51  degrees of freedom\n",
       "  (2 observations deleted due to missingness)\n",
       "AIC: 66.848\n",
       "\n",
       "Number of Fisher Scoring iterations: 3\n"
      ]
     },
     "metadata": {},
     "output_type": "display_data"
    }
   ],
   "source": [
    "model_glm3 = glm(crystals ~ . -col1 -pH -osmo -cond -calc -urea, data = urine_train, family = binomial())\n",
    "summary(model_glm3)\n",
    "\n",
    "glm_model_final <- model_glm3"
   ]
  },
  {
   "cell_type": "markdown",
   "id": "b2977bb0",
   "metadata": {},
   "source": [
    "Skonstruuj klasyfikator w oparciu o próbę uczącą. Przedstaw na rysunku\n",
    "klasyfikację dokonaną przez klasyfikator. Wyznacz błąd klasyfikacji na próbie testowej."
   ]
  },
  {
   "cell_type": "code",
   "execution_count": 6,
   "id": "558cd827",
   "metadata": {},
   "outputs": [
    {
     "data": {
      "text/plain": [
       "    predicted\n",
       "true  0  1\n",
       "   0 10  5\n",
       "   1  3  6"
      ]
     },
     "metadata": {},
     "output_type": "display_data"
    },
    {
     "data": {
      "text/html": [
       "33.3333333333333"
      ],
      "text/latex": [
       "33.3333333333333"
      ],
      "text/markdown": [
       "33.3333333333333"
      ],
      "text/plain": [
       "[1] 33.33333"
      ]
     },
     "metadata": {},
     "output_type": "display_data"
    },
    {
     "data": {
      "image/png": "[encoded data removed]",
      "text/plain": [
       "plot without title"
      ]
     },
     "metadata": {},
     "output_type": "display_data"
    }
   ],
   "source": [
    "predicted_values = predict(glm_model_final, newdata = urine_test, type = 'response')\n",
    "\n",
    "plot(predicted_values, pch = 19, col = urine_test$crystals + 1)\n",
    "legend(\"topleft\", c(\"crystals = 0\", \"crystals = 1\"), pch = 19, col = c(1, 2))\n",
    "\n",
    "# przekodowujemy prawdopodobieństwo na 0 i 1 (brak kryształów, obecność kryształów)\n",
    "predicted_values[predicted_values < 0.5] = 0\n",
    "predicted_values[predicted_values >= 0.5] = 1\n",
    "\n",
    "(T = table(true = urine_test$crystals, predicted = predicted_values))  # robimy confusion matrix\n",
    "(blad_predykcji = (1 - sum(diag(T)) / sum(T))*100)"
   ]
  },
  {
   "cell_type": "markdown",
   "id": "08203ccb",
   "metadata": {},
   "source": [
    " Skonstruuj klasyfikator w oparciu o metodę LDA bazując na próbie uczącej\n",
    "oraz porównaj jego błąd klasyfikacji na próbie testowej z błędem klasyfikacji\n",
    "klasyfikatora opartego na regresji logistycznej."
   ]
  },
  {
   "cell_type": "code",
   "execution_count": 7,
   "id": "e62e8340",
   "metadata": {},
   "outputs": [
    {
     "data": {
      "text/plain": [
       "    predicted\n",
       "true  0  1\n",
       "   0 10  5\n",
       "   1  3  6"
      ]
     },
     "metadata": {},
     "output_type": "display_data"
    },
    {
     "data": {
      "text/html": [
       "33.3333333333333"
      ],
      "text/latex": [
       "33.3333333333333"
      ],
      "text/markdown": [
       "33.3333333333333"
      ],
      "text/plain": [
       "[1] 33.33333"
      ]
     },
     "metadata": {},
     "output_type": "display_data"
    }
   ],
   "source": [
    "library(MASS)\n",
    "\n",
    "model_LDA = lda(crystals ~ . -col1 -pH -osmo -cond -calc -urea, data = urine_train)  #tworzenie modelu\n",
    "\n",
    "predicted_values_LDA = predict(model_LDA, newdata= urine_test)$class  # predykcja\n",
    "\n",
    "(T_LDA = table(true = urine_test$crystals, predicted = predicted_values_LDA))  # tworzenie tabeli kontyngencji\n",
    "\n",
    "(blad_predykcji_LDA = (1 - sum(diag(T_LDA)) / sum(T_LDA))*100) # obliczanie błędu predykcji"
   ]
  },
  {
   "cell_type": "markdown",
   "id": "fdad84d3",
   "metadata": {},
   "source": [
    "# zadanie 8"
   ]
  },
  {
   "cell_type": "code",
   "execution_count": 8,
   "id": "4800e9e1",
   "metadata": {},
   "outputs": [
    {
     "data": {
      "text/html": [
       "<table>\n",
       "<thead><tr><th scope=col>TetnoSpocz</th><th scope=col>Palacz</th><th scope=col>Waga</th></tr></thead>\n",
       "<tbody>\n",
       "\t<tr><td>0 </td><td>1 </td><td>51</td></tr>\n",
       "\t<tr><td>0 </td><td>1 </td><td>52</td></tr>\n",
       "\t<tr><td>0 </td><td>1 </td><td>57</td></tr>\n",
       "\t<tr><td>0 </td><td>1 </td><td>59</td></tr>\n",
       "\t<tr><td>0 </td><td>1 </td><td>60</td></tr>\n",
       "\t<tr><td>0 </td><td>1 </td><td>66</td></tr>\n",
       "</tbody>\n",
       "</table>\n"
      ],
      "text/latex": [
       "\\begin{tabular}{r|lll}\n",
       " TetnoSpocz & Palacz & Waga\\\\\n",
       "\\hline\n",
       "\t 0  & 1  & 51\\\\\n",
       "\t 0  & 1  & 52\\\\\n",
       "\t 0  & 1  & 57\\\\\n",
       "\t 0  & 1  & 59\\\\\n",
       "\t 0  & 1  & 60\\\\\n",
       "\t 0  & 1  & 66\\\\\n",
       "\\end{tabular}\n"
      ],
      "text/markdown": [
       "\n",
       "| TetnoSpocz | Palacz | Waga |\n",
       "|---|---|---|\n",
       "| 0  | 1  | 51 |\n",
       "| 0  | 1  | 52 |\n",
       "| 0  | 1  | 57 |\n",
       "| 0  | 1  | 59 |\n",
       "| 0  | 1  | 60 |\n",
       "| 0  | 1  | 66 |\n",
       "\n"
      ],
      "text/plain": [
       "  TetnoSpocz Palacz Waga\n",
       "1 0          1      51  \n",
       "2 0          1      52  \n",
       "3 0          1      57  \n",
       "4 0          1      59  \n",
       "5 0          1      60  \n",
       "6 0          1      66  "
      ]
     },
     "metadata": {},
     "output_type": "display_data"
    }
   ],
   "source": [
    "library(data.table)\n",
    "\n",
    "cardio <- fread('http://theta.edu.pl/wp-content/uploads/2018/03/puls2.csv')\n",
    "\n",
    "\n",
    "# zamiana 'Wysokie' na 1 i 'Niskie' na 0\n",
    "# trzeba to zrobić, poniewaz glm() wymaga tego typu zmiennej objaśnianej\n",
    "cardio$TetnoSpocz <- ifelse(cardio$TetnoSpocz ==\"Wysokie\",1,0)\n",
    "\n",
    "head(cardio)"
   ]
  },
  {
   "cell_type": "markdown",
   "id": "30966bd2",
   "metadata": {},
   "source": [
    "Dokonaj podziału obserwacji na podzbiór uczący (75% obserwacji, wybranych\n",
    "w sposób losowy) oraz zbiór testowy (pozostałe)."
   ]
  },
  {
   "cell_type": "code",
   "execution_count": 9,
   "id": "a6fcbc27",
   "metadata": {},
   "outputs": [],
   "source": [
    "# 75% uczący, 25% testowy\n",
    "\n",
    "sample <- sample(c(TRUE, FALSE), nrow(cardio), replace=TRUE, prob=c(0.75,0.25))\n",
    "cardio_train  <- cardio[sample, ]\n",
    "cardio_test   <- cardio[!sample, ]\n",
    "#head(cardio_train)\n",
    "#head(cardio_test)"
   ]
  },
  {
   "cell_type": "markdown",
   "id": "cdc8fc37",
   "metadata": {},
   "source": [
    "Dopasuj model regresji logistycznej bazując na podzbiorze uczącym, przyjmując za zmienną objaśnianą TetnoSpocz."
   ]
  },
  {
   "cell_type": "code",
   "execution_count": 10,
   "id": "c8134c30",
   "metadata": {},
   "outputs": [
    {
     "data": {
      "text/plain": [
       "\n",
       "Call:\n",
       "glm(formula = TetnoSpocz ~ ., family = binomial(), data = cardio_train)\n",
       "\n",
       "Deviance Residuals: \n",
       "    Min       1Q   Median       3Q      Max  \n",
       "-1.2559  -0.7811  -0.5834   0.8213   2.6149  \n",
       "\n",
       "Coefficients:\n",
       "            Estimate Std. Error z value Pr(>|z|)    \n",
       "(Intercept) -7.76996    2.28942  -3.394 0.000689 ***\n",
       "Palacz       0.56406    0.59501   0.948 0.343131    \n",
       "Waga         0.08119    0.02647   3.067 0.002162 ** \n",
       "---\n",
       "Signif. codes:  0 '***' 0.001 '**' 0.01 '*' 0.05 '.' 0.1 ' ' 1\n",
       "\n",
       "(Dispersion parameter for binomial family taken to be 1)\n",
       "\n",
       "    Null deviance: 86.387  on 68  degrees of freedom\n",
       "Residual deviance: 72.183  on 66  degrees of freedom\n",
       "AIC: 78.183\n",
       "\n",
       "Number of Fisher Scoring iterations: 4\n"
      ]
     },
     "metadata": {},
     "output_type": "display_data"
    }
   ],
   "source": [
    "mod_glm = glm(TetnoSpocz ~ ., data = cardio_train, family = binomial())\n",
    "summary(mod_glm)"
   ]
  },
  {
   "cell_type": "markdown",
   "id": "77035cf7",
   "metadata": {},
   "source": [
    "iii) Stosując krokową procedurę wyboru modelu zdecyduj, które zmienne\n",
    "powinny pozostać w modelu"
   ]
  },
  {
   "cell_type": "code",
   "execution_count": 11,
   "id": "a3b98bb0",
   "metadata": {},
   "outputs": [
    {
     "data": {
      "text/plain": [
       "\n",
       "Call:\n",
       "glm(formula = TetnoSpocz ~ . - Palacz, family = binomial(), data = cardio_train)\n",
       "\n",
       "Deviance Residuals: \n",
       "    Min       1Q   Median       3Q      Max  \n",
       "-1.1046  -0.8226  -0.5302   0.8885   2.5453  \n",
       "\n",
       "Coefficients:\n",
       "            Estimate Std. Error z value Pr(>|z|)    \n",
       "(Intercept) -7.61489    2.30313  -3.306 0.000945 ***\n",
       "Waga         0.08177    0.02674   3.058 0.002228 ** \n",
       "---\n",
       "Signif. codes:  0 '***' 0.001 '**' 0.01 '*' 0.05 '.' 0.1 ' ' 1\n",
       "\n",
       "(Dispersion parameter for binomial family taken to be 1)\n",
       "\n",
       "    Null deviance: 86.387  on 68  degrees of freedom\n",
       "Residual deviance: 73.080  on 67  degrees of freedom\n",
       "AIC: 77.08\n",
       "\n",
       "Number of Fisher Scoring iterations: 4\n"
      ]
     },
     "metadata": {},
     "output_type": "display_data"
    }
   ],
   "source": [
    "mod_glm2 = glm(TetnoSpocz ~ . -Palacz, data = cardio_train, family = binomial())\n",
    "summary(mod_glm2)"
   ]
  },
  {
   "cell_type": "markdown",
   "id": "1eee1290",
   "metadata": {},
   "source": [
    "iv) Dopasuj model regresji logistycznej bazując na podzbiorze uczącym,\n",
    "uwzględniający interakcję pomiędzy zmiennymi objaśniającymi."
   ]
  },
  {
   "cell_type": "code",
   "execution_count": 12,
   "id": "ae8c2ce9",
   "metadata": {},
   "outputs": [
    {
     "data": {
      "text/plain": [
       "\n",
       "Call:\n",
       "glm(formula = TetnoSpocz ~ Palacz + Waga + Palacz * Waga, family = binomial(), \n",
       "    data = cardio_train)\n",
       "\n",
       "Deviance Residuals: \n",
       "    Min       1Q   Median       3Q      Max  \n",
       "-1.6132  -0.8024  -0.6851   0.5158   1.9291  \n",
       "\n",
       "Coefficients:\n",
       "             Estimate Std. Error z value Pr(>|z|)  \n",
       "(Intercept)  -3.08690    2.46612  -1.252   0.2107  \n",
       "Palacz      -17.91655    8.98441  -1.994   0.0461 *\n",
       "Waga          0.02584    0.02925   0.883   0.3770  \n",
       "Palacz:Waga   0.21578    0.10340   2.087   0.0369 *\n",
       "---\n",
       "Signif. codes:  0 '***' 0.001 '**' 0.01 '*' 0.05 '.' 0.1 ' ' 1\n",
       "\n",
       "(Dispersion parameter for binomial family taken to be 1)\n",
       "\n",
       "    Null deviance: 86.387  on 68  degrees of freedom\n",
       "Residual deviance: 63.682  on 65  degrees of freedom\n",
       "AIC: 71.682\n",
       "\n",
       "Number of Fisher Scoring iterations: 6\n"
      ]
     },
     "metadata": {},
     "output_type": "display_data"
    }
   ],
   "source": [
    "# używam modelu przed eliminacją zmiennej nieistotnej aby uwzględnić interakcję (po eliminacji niestotnej zmiennej...\n",
    "# ... zostaje tylko jedna zmienna objaśniająca więc nie da się uwzględnić interakcji)\n",
    "\n",
    "mod_glm_interact = glm(TetnoSpocz ~ Palacz + Waga + Palacz*Waga, data = cardio_train, family = binomial())\n",
    "summary(mod_glm_interact)"
   ]
  },
  {
   "cell_type": "markdown",
   "id": "bd86b43f",
   "metadata": {},
   "source": [
    "v) Przeanalizuj modele zawierające jako zmienne objaśniające następujące\n",
    "zestawy zmiennych:\n",
    "2\n",
    "M1: Palacz, Waga, Palacz*Waga\n",
    "M2: Waga, Palacz*Waga\n",
    "M3: Palacz, Palacz*Waga\n",
    "M4: Palacz*Waga\n",
    "Który z tych modeli zawiera tylko istotne zmienne objaśniające?"
   ]
  },
  {
   "cell_type": "code",
   "execution_count": 13,
   "id": "96445bbb",
   "metadata": {},
   "outputs": [],
   "source": [
    "m1 <- glm(TetnoSpocz ~ Palacz + Waga + Palacz*Waga, data = cardio_train, family = binomial())\n",
    "m2 <- glm(TetnoSpocz ~ Waga + Palacz*Waga, data = cardio_train, family = binomial())\n",
    "m3 <- glm(TetnoSpocz ~ Palacz + Palacz*Waga, data = cardio_train, family = binomial())\n",
    "m4 <- glm(TetnoSpocz ~ Palacz*Waga, data = cardio_train, family = binomial())"
   ]
  },
  {
   "cell_type": "code",
   "execution_count": 14,
   "id": "193a58ff",
   "metadata": {},
   "outputs": [
    {
     "data": {
      "text/plain": [
       "\n",
       "Call:\n",
       "glm(formula = TetnoSpocz ~ Palacz + Waga + Palacz * Waga, family = binomial(), \n",
       "    data = cardio_train)\n",
       "\n",
       "Deviance Residuals: \n",
       "    Min       1Q   Median       3Q      Max  \n",
       "-1.6132  -0.8024  -0.6851   0.5158   1.9291  \n",
       "\n",
       "Coefficients:\n",
       "             Estimate Std. Error z value Pr(>|z|)  \n",
       "(Intercept)  -3.08690    2.46612  -1.252   0.2107  \n",
       "Palacz      -17.91655    8.98441  -1.994   0.0461 *\n",
       "Waga          0.02584    0.02925   0.883   0.3770  \n",
       "Palacz:Waga   0.21578    0.10340   2.087   0.0369 *\n",
       "---\n",
       "Signif. codes:  0 '***' 0.001 '**' 0.01 '*' 0.05 '.' 0.1 ' ' 1\n",
       "\n",
       "(Dispersion parameter for binomial family taken to be 1)\n",
       "\n",
       "    Null deviance: 86.387  on 68  degrees of freedom\n",
       "Residual deviance: 63.682  on 65  degrees of freedom\n",
       "AIC: 71.682\n",
       "\n",
       "Number of Fisher Scoring iterations: 6\n"
      ]
     },
     "metadata": {},
     "output_type": "display_data"
    },
    {
     "data": {
      "text/plain": [
       "\n",
       "Call:\n",
       "glm(formula = TetnoSpocz ~ Waga + Palacz * Waga, family = binomial(), \n",
       "    data = cardio_train)\n",
       "\n",
       "Deviance Residuals: \n",
       "    Min       1Q   Median       3Q      Max  \n",
       "-1.6132  -0.8024  -0.6851   0.5158   1.9291  \n",
       "\n",
       "Coefficients:\n",
       "             Estimate Std. Error z value Pr(>|z|)  \n",
       "(Intercept)  -3.08690    2.46612  -1.252   0.2107  \n",
       "Waga          0.02584    0.02925   0.883   0.3770  \n",
       "Palacz      -17.91655    8.98441  -1.994   0.0461 *\n",
       "Waga:Palacz   0.21578    0.10340   2.087   0.0369 *\n",
       "---\n",
       "Signif. codes:  0 '***' 0.001 '**' 0.01 '*' 0.05 '.' 0.1 ' ' 1\n",
       "\n",
       "(Dispersion parameter for binomial family taken to be 1)\n",
       "\n",
       "    Null deviance: 86.387  on 68  degrees of freedom\n",
       "Residual deviance: 63.682  on 65  degrees of freedom\n",
       "AIC: 71.682\n",
       "\n",
       "Number of Fisher Scoring iterations: 6\n"
      ]
     },
     "metadata": {},
     "output_type": "display_data"
    },
    {
     "data": {
      "text/plain": [
       "\n",
       "Call:\n",
       "glm(formula = TetnoSpocz ~ Palacz + Palacz * Waga, family = binomial(), \n",
       "    data = cardio_train)\n",
       "\n",
       "Deviance Residuals: \n",
       "    Min       1Q   Median       3Q      Max  \n",
       "-1.6132  -0.8024  -0.6851   0.5158   1.9291  \n",
       "\n",
       "Coefficients:\n",
       "             Estimate Std. Error z value Pr(>|z|)  \n",
       "(Intercept)  -3.08690    2.46612  -1.252   0.2107  \n",
       "Palacz      -17.91655    8.98441  -1.994   0.0461 *\n",
       "Waga          0.02584    0.02925   0.883   0.3770  \n",
       "Palacz:Waga   0.21578    0.10340   2.087   0.0369 *\n",
       "---\n",
       "Signif. codes:  0 '***' 0.001 '**' 0.01 '*' 0.05 '.' 0.1 ' ' 1\n",
       "\n",
       "(Dispersion parameter for binomial family taken to be 1)\n",
       "\n",
       "    Null deviance: 86.387  on 68  degrees of freedom\n",
       "Residual deviance: 63.682  on 65  degrees of freedom\n",
       "AIC: 71.682\n",
       "\n",
       "Number of Fisher Scoring iterations: 6\n"
      ]
     },
     "metadata": {},
     "output_type": "display_data"
    },
    {
     "data": {
      "text/plain": [
       "\n",
       "Call:\n",
       "glm(formula = TetnoSpocz ~ Palacz * Waga, family = binomial(), \n",
       "    data = cardio_train)\n",
       "\n",
       "Deviance Residuals: \n",
       "    Min       1Q   Median       3Q      Max  \n",
       "-1.6132  -0.8024  -0.6851   0.5158   1.9291  \n",
       "\n",
       "Coefficients:\n",
       "             Estimate Std. Error z value Pr(>|z|)  \n",
       "(Intercept)  -3.08690    2.46612  -1.252   0.2107  \n",
       "Palacz      -17.91655    8.98441  -1.994   0.0461 *\n",
       "Waga          0.02584    0.02925   0.883   0.3770  \n",
       "Palacz:Waga   0.21578    0.10340   2.087   0.0369 *\n",
       "---\n",
       "Signif. codes:  0 '***' 0.001 '**' 0.01 '*' 0.05 '.' 0.1 ' ' 1\n",
       "\n",
       "(Dispersion parameter for binomial family taken to be 1)\n",
       "\n",
       "    Null deviance: 86.387  on 68  degrees of freedom\n",
       "Residual deviance: 63.682  on 65  degrees of freedom\n",
       "AIC: 71.682\n",
       "\n",
       "Number of Fisher Scoring iterations: 6\n"
      ]
     },
     "metadata": {},
     "output_type": "display_data"
    }
   ],
   "source": [
    "# żaden z modeli nie zawiera samych istotnych zmiennych\n",
    "\n",
    "summary(m1)\n",
    "summary(m2)\n",
    "summary(m3)\n",
    "summary(m4)"
   ]
  },
  {
   "cell_type": "markdown",
   "id": "8fefe6bc",
   "metadata": {},
   "source": [
    "vi) Dla pełnego modelu bez interakcji i modelu wskazanego w punkcie (v)\n",
    "skonstruuj klasyfikatory w oparciu o próbę uczącą. Przedstaw na rysunku\n",
    "klasyfikację dokonaną przez oba klasyfikatory. Wyznacz błąd klasyfikacji na\n",
    "próbie testowej."
   ]
  },
  {
   "cell_type": "code",
   "execution_count": 19,
   "id": "0a68e1c4",
   "metadata": {},
   "outputs": [
    {
     "data": {
      "text/plain": [
       "    predicted\n",
       "true  0  1\n",
       "   0 13  1\n",
       "   1  4  5"
      ]
     },
     "metadata": {},
     "output_type": "display_data"
    },
    {
     "data": {
      "text/html": [
       "21.7391304347826"
      ],
      "text/latex": [
       "21.7391304347826"
      ],
      "text/markdown": [
       "21.7391304347826"
      ],
      "text/plain": [
       "[1] 21.73913"
      ]
     },
     "metadata": {},
     "output_type": "display_data"
    },
    {
     "data": {
      "image/png": "[encoded data removed]",
      "text/plain": [
       "plot without title"
      ]
     },
     "metadata": {},
     "output_type": "display_data"
    }
   ],
   "source": [
    "# żaden z modeli w punktu v) nie zawiera samych istotnych zmiennych\n",
    "# więc skonstruuję klasyfikator jedynie dla modelu bez interakcji\n",
    "\n",
    "\n",
    "# tworzenie klasyfikatora -------------------------------------------------------------------------------------------\n",
    "mod_glm_no_interact = glm(TetnoSpocz ~ Palacz + Waga, data = cardio_train, family = binomial())\n",
    "#summary(mod_glm_no_interact)\n",
    "\n",
    "# klasyfikacja przez klasyfikator -----------------------------------------------------------------------------------\n",
    "predicted_values = predict(mod_glm_no_interact, newdata = cardio_test, type = 'response')\n",
    "\n",
    "plot(predicted_values, pch = 19, col = cardio_test$TetnoSpocz + 1)\n",
    "legend(\"topleft\", c(\"TetnoSpocz = 0 (Niskie)\", \"TetnoSpocz = 1 (Wysokie)\"), pch = 19, col = c(1, 2))\n",
    "\n",
    "\n",
    "# wyznaczanie błędu klasyfikacji -----------------------------------------------------------------------------------\n",
    "predicted_values[predicted_values < 0.5] = 0   # konwersja ciągłej zmiennej na kategorycznej\n",
    "predicted_values[predicted_values >= 0.5] = 1\n",
    "\n",
    "(T = table(true = cardio_test$TetnoSpocz, predicted = predicted_values))  # tworzenie tabeli kontyngencji\n",
    "\n",
    "(blad_predykcji = (1 - sum(diag(T)) / sum(T))*100) # obliczanie błędu predykcji"
   ]
  },
  {
   "cell_type": "markdown",
   "id": "af7ab0b7",
   "metadata": {},
   "source": [
    "vii) Skonstruuj klasyfikatory w oparciu o metodę LDA bazując na próbie uczącej oraz porównaj ich błędy klasyfikacji na próbie testowej z błędami klasyfikacji klasyfikatorów opartych na regresji logistycznej. Skomentuj\n",
    "uzyskane wyniki."
   ]
  },
  {
   "cell_type": "code",
   "execution_count": 20,
   "id": "bd1eb196",
   "metadata": {},
   "outputs": [
    {
     "data": {
      "text/plain": [
       "    predicted\n",
       "true  0  1\n",
       "   0 13  1\n",
       "   1  4  5"
      ]
     },
     "metadata": {},
     "output_type": "display_data"
    },
    {
     "data": {
      "text/html": [
       "21.7391304347826"
      ],
      "text/latex": [
       "21.7391304347826"
      ],
      "text/markdown": [
       "21.7391304347826"
      ],
      "text/plain": [
       "[1] 21.73913"
      ]
     },
     "metadata": {},
     "output_type": "display_data"
    }
   ],
   "source": [
    "library(MASS)\n",
    "\n",
    "model_LDA = lda(TetnoSpocz ~ Palacz + Waga, data = cardio_train)  #tworzenie modelu\n",
    "\n",
    "predicted_values_LDA = predict(model_LDA, newdata= cardio_test)$class  # predykcja\n",
    "\n",
    "(T_LDA = table(true = cardio_test$TetnoSpocz, predicted = predicted_values_LDA))  # tworzenie tabeli kontyngencji\n",
    "\n",
    "(blad_predykcji_LDA = (1 - sum(diag(T_LDA)) / sum(T_LDA))*100) # obliczanie błędu predykcji\n",
    "\n",
    "\n",
    "# Błąd predykcji jest taki sam jak w przypadku klasyfikatora opartego o regresję logistyczną\n",
    "# Może to być spowodowane małym zbiorem danych"
   ]
  },
  {
   "cell_type": "code",
   "execution_count": null,
   "id": "f885b19b",
   "metadata": {},
   "outputs": [],
   "source": []
  }
 ],
 "metadata": {
  "kernelspec": {
   "display_name": "R",
   "language": "R",
   "name": "ir"
  },
  "language_info": {
   "codemirror_mode": "r",
   "file_extension": ".r",
   "mimetype": "text/x-r-source",
   "name": "R",
   "pygments_lexer": "r",
   "version": "3.6.1"
  }
 },
 "nbformat": 4,
 "nbformat_minor": 5
}
